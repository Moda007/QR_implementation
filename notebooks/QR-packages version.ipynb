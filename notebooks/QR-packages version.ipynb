{
 "cells": [
  {
   "cell_type": "markdown",
   "metadata": {},
   "source": [
    "# QR iteration"
   ]
  },
  {
   "cell_type": "markdown",
   "metadata": {},
   "source": [
    "### _Note: QR decomposition and Hessenberg transformation are using packages)_"
   ]
  },
  {
   "cell_type": "markdown",
   "metadata": {},
   "source": [
    "The QR iteration and Hessenberg transformation will be investigated on a simple matrix."
   ]
  },
  {
   "cell_type": "markdown",
   "metadata": {},
   "source": [
    "$$\\begin{pmatrix} 2 & 1 & 6 & 3 & 5 \\\\\n",
    "                  1 & 1 & 3 & 5 & 1 \\\\\n",
    "                  0 & 3 & 1 & 6 & 2 \\\\\n",
    "                  0 & 0 & 2 & 3 & 1 \\\\\n",
    "                  0 & 0 & 0 & 2 & 2 \\\\\n",
    "\\end{pmatrix}$$"
   ]
  },
  {
   "cell_type": "code",
   "execution_count": 129,
   "metadata": {},
   "outputs": [],
   "source": [
    "%matplotlib inline\n",
    "import numpy as np\n",
    "import matplotlib.pyplot as plt\n",
    "import math as m\n",
    "import pandas as pd"
   ]
  },
  {
   "cell_type": "markdown",
   "metadata": {},
   "source": [
    "## Creating the matrix"
   ]
  },
  {
   "cell_type": "code",
   "execution_count": 130,
   "metadata": {
    "scrolled": true
   },
   "outputs": [
    {
     "data": {
      "text/plain": [
       "array([[2.+0.j, 1.+0.j, 6.+0.j, 3.+0.j, 5.+0.j],\n",
       "       [1.+0.j, 1.+0.j, 3.+0.j, 5.+0.j, 1.+0.j],\n",
       "       [0.+0.j, 3.+0.j, 1.+0.j, 6.+0.j, 2.+0.j],\n",
       "       [0.+0.j, 0.+0.j, 2.+0.j, 3.+0.j, 1.+0.j],\n",
       "       [0.+0.j, 0.+0.j, 0.+0.j, 2.+0.j, 2.+0.j]])"
      ]
     },
     "execution_count": 130,
     "metadata": {},
     "output_type": "execute_result"
    }
   ],
   "source": [
    "data = [2, 1, 6, 3, 5, 1, 1, 3, 5, 1, 0, 3, 1, 6, 2, 0, 0, 2, 3, 1, 0, 0, 0, 2, 2]\n",
    "dim = int(m.sqrt(len(data)))\n",
    "mat = []\n",
    "idx = 0\n",
    "while idx < (dim*dim):\n",
    "    row = []\n",
    "    for i in range(dim):\n",
    "        row.append(data[idx]+ 0.j)\n",
    "        idx += 1\n",
    "    mat.append(np.array(row))\n",
    "mat = np.array(mat)\n",
    "mat"
   ]
  },
  {
   "cell_type": "markdown",
   "metadata": {},
   "source": [
    "## QR Iteration - Implementation"
   ]
  },
  {
   "cell_type": "markdown",
   "metadata": {},
   "source": [
    "for **QR decomposition** <br>\n",
    "$R = Q^T A$ <br>\n",
    "where, $Q$ is an orthogonal matrix $({Q}^{T}Q = I)$ and $R$ is an upper triangular matrix. <br>\n",
    "Assume that $A$ is: <br>\n",
    "$$\\begin{pmatrix}   {a_{11}} & {a_{12}} \\\\\n",
    "                    {a_{21}} & {a_{22}} \\\\\n",
    "\\end{pmatrix}$$\n",
    "<br>\n",
    "a typical transpose is **2-D** is a rotation by $\\theta$ <br>\n",
    "$$\\begin{pmatrix}   {\\cos\\theta} & {\\sin\\theta} \\\\\n",
    "                    {-\\sin\\theta} & {\\cos\\theta} \\\\\n",
    "\\end{pmatrix}$$\n",
    "<br>\n",
    "By applying $R = {Q}^{T}A$ we get <br>\n",
    "$-a_{11} \\sin\\theta + a_{21} \\cos\\theta = 0 \\rightarrow a_{11} \\sin\\theta = a_{21} \\cos\\theta $ <br>\n",
    "if $ a_{11} \\neq 0 \\rightarrow \\tan{\\theta} = \\frac{a_{21}}{a_{11}} $ <br>\n",
    "if $ a_{11} = 0 \\rightarrow \\cos\\theta = 0 $ <br> <br>\n",
    "\n",
    "For larger matrices, we do this transformation using $S$ matrices, where <br>\n",
    "$ {S}_1 = S_{2,1} . S_{3,1} ... S_{n,1} $ <br>\n",
    "$ {S}_2 = S_{3,2} . S_{4,2} ... S_{n,2} $ <br>\n",
    ". <br>\n",
    ". <br>\n",
    ". <br>\n",
    "$ {S}_{n-1} = S_{n,n-1}$ <br>\n",
    "weher, $S_{ij}$ means the $i^{th}$ element in the $j^{th}$ column will be zero in matrix **A**\n",
    "<br> And <br>\n",
    "${Q}^{T} = {S}_{n-1} . {S}_{n-2} ... {S}_2 . {S}_1 $ <br>"
   ]
  },
  {
   "cell_type": "markdown",
   "metadata": {},
   "source": [
    "The $S_{ij}$ matrix which can make an element zero is sparse. Therefore it is represented by a special structure:"
   ]
  },
  {
   "cell_type": "markdown",
   "metadata": {},
   "source": [
    "For every $S_{ij}$ matrix, let the angle be $\\theta$ and $tan$ is $\\tan{\\theta}$ <br>\n",
    "then, <br> ${\\sec}^{2}{\\theta} = 1 + {\\tan}^{2}{\\theta}$ $\\rightarrow$ ${\\sec\\theta} = \\sqrt{1 + {\\tan}^{2}{\\theta}}$ $\\rightarrow$ $\\frac{1}{\\cos\\theta} = \\sqrt{1 + {tan}^{2}}$ <br> \n",
    "Hence, <br> ${\\cos\\theta} = \\frac{1}{\\sqrt{1 + {tan}^{2}}}$ <br>\n",
    "<br>\n",
    "Also, we know that <br> ${\\sin\\theta} = \\sqrt{1 - {\\cos}^{2}{\\theta}}$ $\\rightarrow$ ${\\sin\\theta} = \\sqrt{1 - \\frac{1}{1 + {tan}^{2}}}$ <br>\n",
    "Hence, <br> ${\\sin\\theta} = \\frac{tan}{\\sqrt{1 + {tan}^{2}}}$ <br> <br>\n",
    "When $\\tan{\\theta} = \\infty$ $\\rightarrow$ $\\rightarrow$ ${\\sin\\theta} = 1$ and ${\\cos\\theta} = 0$"
   ]
  },
  {
   "cell_type": "code",
   "execution_count": 131,
   "metadata": {},
   "outputs": [],
   "source": [
    "class S:\n",
    "    def __init__(self, i, j, tan = 0):\n",
    "        self.i = i\n",
    "        self.j = j\n",
    "        self.sin = self.__to_sin(tan)\n",
    "        self.cos = self.__to_cos(tan)\n",
    "        \n",
    "    def __to_sin(self, tan):\n",
    "        return tan / m.sqrt(1.0 + tan * tan)\n",
    "    \n",
    "    def __to_cos(self, tan):\n",
    "        return 1.0 / m.sqrt(1.0 + tan * tan)\n",
    "    \n",
    "    def infinity_tan(self):\n",
    "        self.sin = 1.0\n",
    "        self.cos = 0.0                                  "
   ]
  },
  {
   "cell_type": "markdown",
   "metadata": {},
   "source": [
    "This multiplication should exhaust the fact that $S_{ij}$ is sparse."
   ]
  },
  {
   "cell_type": "markdown",
   "metadata": {},
   "source": [
    "let's assume that we want to make the fifth element of the first column to be zero $( a_{5,1} \\rightarrow {\\grave a}_{5,1} = 0)$ <br>\n",
    "$S_{5,1}$ matrix looks like this: <br>\n",
    "$$\\begin{pmatrix}   \\cos\\theta_{n,1}&   &   &   &   &\\sin\\theta_{n,1}   \\\\\n",
    "                    & 1 &   &   &   &   \\\\\n",
    "                    &   & 1 &   &   &   \\\\\n",
    "                    &   &   & 1 &   &   \\\\\n",
    "                    &   &   &   & 1 &   \\\\\n",
    "                    -\\sin\\theta_{n1}&   &   &   &   &\\cos\\theta_{n1}   \\\\\n",
    "\\end{pmatrix}$$\n",
    "<br>\n",
    "$ {\\grave a}_{1,1} = {a}_{1,1} . \\cos + {a}_{1,5} . \\sin $ <br>\n",
    "$ {\\grave a}_{5,1} = {a}_{5,1} . \\cos + {a}_{1,1} . \\sin $ <br> <br>\n",
    "Then, $S_{5,2}$ matrix looks like this: <br>\n",
    "$$\\begin{pmatrix}   \\cos\\theta_{n-1,1}&   &   &   &   &\\sin\\theta_{n-1,1}   \\\\\n",
    "                    & 1 &   &   &   &   \\\\\n",
    "                    &   & 1 &   &   &   \\\\\n",
    "                    &   &   & 1 &   &   \\\\\n",
    "                    -\\sin\\theta_{n-1,1}&   &   &   &   &\\cos\\theta_{n-1,1}   \\\\\n",
    "                    &   &   &   &   &  1   \\\\\n",
    "\\end{pmatrix}$$\n",
    "<br>etc..."
   ]
  },
  {
   "cell_type": "code",
   "execution_count": 132,
   "metadata": {},
   "outputs": [],
   "source": [
    "def sij_dot_A(s_ij, A): # A should be a numpy matrix\n",
    "    for idx in range(0, A.shape[1]):\n",
    "        temp = A[s_ij.j, idx] * s_ij.cos + A[s_ij.i, idx] * s_ij.sin\n",
    "        A[s_ij.i, idx] = A[s_ij.i, idx] * s_ij.cos - A[s_ij.j, idx] * s_ij.sin\n",
    "        A[s_ij.j, idx] = temp"
   ]
  },
  {
   "cell_type": "markdown",
   "metadata": {},
   "source": [
    "After eliminating all the zeros under the diagonal the transpose of $S's$ are applied from the right to get the new **A**."
   ]
  },
  {
   "cell_type": "code",
   "execution_count": 133,
   "metadata": {},
   "outputs": [],
   "source": [
    "def A_dot_transpose_sij(A, s_ij):\n",
    "    for idx in range(0, A.shape[0]):\n",
    "        temp = A[idx, s_ij.j] * s_ij.cos + A[idx, s_ij.i] * s_ij.sin\n",
    "        A[idx, s_ij.i] = A[idx, s_ij.i] * s_ij.cos - A[idx, s_ij.j] * s_ij.sin\n",
    "        A[idx, s_ij.j] = temp"
   ]
  },
  {
   "cell_type": "markdown",
   "metadata": {
    "collapsed": true
   },
   "source": [
    "The actual $S$ for the current state of the **A** at $i, j$:"
   ]
  },
  {
   "cell_type": "code",
   "execution_count": 134,
   "metadata": {},
   "outputs": [],
   "source": [
    "def next_s(A, i, j, tolerance=1e-10):\n",
    "    if abs(A[j, j]) < tolerance:\n",
    "        s = S(i, j)\n",
    "        s.infinity_tan()\n",
    "        return s\n",
    "    else:\n",
    "        tan = A[i, j] / A[j, j]\n",
    "        return S(i, j, tan)"
   ]
  },
  {
   "cell_type": "markdown",
   "metadata": {},
   "source": [
    "The eigenvalues are given as the diagonal elements in the **A** after sufficient number of **QR** iteration. A function for accessing the diagonal elements:"
   ]
  },
  {
   "cell_type": "code",
   "execution_count": 135,
   "metadata": {},
   "outputs": [],
   "source": [
    "def diagonals(A):\n",
    "    eis = []\n",
    "    for idx in range(0, A.shape[0]):\n",
    "        eis.append(A[idx, idx])\n",
    "        \n",
    "    return eis"
   ]
  },
  {
   "cell_type": "markdown",
   "metadata": {},
   "source": [
    "Then one step in the **QR** iteration ($A_{k+1} = Q^T \\cdot A_{k} \\cdot Q$) can be implemented in the following way:"
   ]
  },
  {
   "cell_type": "code",
   "execution_count": 136,
   "metadata": {},
   "outputs": [],
   "source": [
    "def qr_one_step(A):\n",
    "    s_list = []\n",
    "    for j in range(0, A.shape[1]): # multiplications from left, erasing zeros in the j. column \n",
    "        for i in range(A.shape[0] - 1, j, -1):\n",
    "            s_temp = next_s(A, i, j)\n",
    "            sij_dot_A(s_temp, A)\n",
    "            s_list.append(s_temp)\n",
    "    for s in s_list: # multiplying from right, the order is good due to append\n",
    "        A_dot_transpose_sij(A, s)"
   ]
  },
  {
   "cell_type": "markdown",
   "metadata": {},
   "source": [
    "#### Claculate final eigenvalues"
   ]
  },
  {
   "cell_type": "markdown",
   "metadata": {},
   "source": [
    "if value below diagonal is not close enough to zero, this means that there are conjugate complex eigenvalues, two conjugate complex eigenvalues will be held in a sub matrix $h_{n,n}, h_{n+1,n+1}, h_{n,n+1}, h_{n+1,n}$ of the size $2x2$. <br>\n",
    "\n",
    "\n",
    "$$\\begin{pmatrix}   &   &   &   &   &   &   \\\\\n",
    "                    &   &   &   &   &   &   \\\\\n",
    "                    &   &  {h_{n,n}} & {h_{n,n+1}} &   &   &   \\\\\n",
    "                    &   &  {h_{n+1,n}} & {h_{n+1,n+1}} &   &   &   \\\\\n",
    "                    &   &   &   &   &   &   \\\\\n",
    "                    &   &   &   &   &   &   \\\\\n",
    "                    &   &   &   &   &   &   \\\\\n",
    "\\end{pmatrix}$$\n",
    "\n",
    "\n",
    "By comparing $h_{n+1,n}$ and $h_{n,n+1}$, if their absolute value is equal and their sign is opposite, we have the eigenvalues. <br>\n",
    "\n",
    "$$\\begin{pmatrix}   {Re} & {Im} \\\\\n",
    "                    {Im} & {Re} \\\\\n",
    "\\end{pmatrix}$$\n",
    "\n",
    "If not, we calculate the eigenvalues of the $2x2$ matrix $h_{n,n}, h_{n+1,n+1}, h_{n,n+1}, h_{n+1,n}$. <br>\n",
    "\n",
    "$$\\begin{pmatrix}   {h_{n,n}} & {h_{n,n+1}} \\\\\n",
    "                    {h_{n+1,n}} & {h_{n+1,n+1}} \\\\\n",
    "\\end{pmatrix}$$"
   ]
  },
  {
   "cell_type": "code",
   "execution_count": 137,
   "metadata": {},
   "outputs": [],
   "source": [
    "def calc2Eigenvalues(mat):\n",
    "    eigen_vals = []\n",
    "    a = 1\n",
    "    b = -mat[0, 0] - mat[1, 1]\n",
    "    c = mat[0, 0] * mat[1, 1] - mat[0, 1] * mat[1, 0]\n",
    "    if ((b * b) >= (4.0 * a * c)):\n",
    "        mat[0, 0] = (-b + m.sqrt((b * b) - (4.0 * a * c))) / 2.0 / a\n",
    "        mat[1, 1] = (-b - m.sqrt((b * b) - (4.0 * a * c))) / 2.0 / a\n",
    "        mat[1, 0] = 0.0\n",
    "        mat[0, 1] = 0.0\n",
    "        eigen_vals = diagonals(mat)\n",
    "    else:\n",
    "        mat[0, 0] = -b / 2.0 / a\n",
    "        mat[1, 1] = mat[0, 0]\n",
    "        mat[0, 1] = m.sqrt((4.0 * a * c) - (b * b)) / 2.0 / a\n",
    "        mat[1, 0] = -mat[0, 1]\n",
    "        eigen_vals = [complex(mat[0, 0], mat[0, 1]), complex(mat[1, 1], mat[1, 0])]\n",
    "    return eigen_vals"
   ]
  },
  {
   "cell_type": "code",
   "execution_count": 138,
   "metadata": {},
   "outputs": [],
   "source": [
    "def getAccEigenvalues(A):\n",
    "    eig_vals = []\n",
    "    i = 0\n",
    "    while(i<(A.shape[0]-1)):\n",
    "        if abs(A[i+1, i]) <= 1e-10:\n",
    "            eig_vals.append(complex(A[i, i]))\n",
    "        elif A[i+1, i] == -(A[i, i+1]):\n",
    "            eig_vals.append(complex(A[i, i], A[i+1, i]))\n",
    "            eig_vals.append(complex(A[i+1, i+1], A[i, i+1]))\n",
    "            i+=1\n",
    "        else:\n",
    "            mat = A[i:i+2, i:i+2].copy()\n",
    "            eig_vals += calc2Eigenvalues(mat)\n",
    "            i+=1\n",
    "        i+=1\n",
    "    return eig_vals"
   ]
  },
  {
   "cell_type": "markdown",
   "metadata": {},
   "source": [
    "Then the **QR** iteration is given as follows:"
   ]
  },
  {
   "cell_type": "code",
   "execution_count": 139,
   "metadata": {},
   "outputs": [],
   "source": [
    "def qr(A, iter_num=1e6, error=1e-6, callback = None, shift = False): # shift: True shifting is applied\n",
    "    \n",
    "    # helper for calculating the error\n",
    "    diag = diagonals(A)\n",
    "    def sum_sq():\n",
    "        loss = 0.0\n",
    "        for x in diag:\n",
    "            loss += x * x\n",
    "        return loss\n",
    "    \n",
    "    ei_sum_0 = sum_sq()\n",
    "    \n",
    "    it = 0\n",
    "    terminate = False\n",
    "    while not terminate:       \n",
    "        Q, R = np.linalg.qr(A)\n",
    "        A = np.matmul(R, Q)\n",
    "        \n",
    "        # error calculation and administration\n",
    "        diag = getAccEigenvalues(A)\n",
    "        ei_sum_1 = sum_sq()\n",
    "        Err = ei_sum_1 - ei_sum_0\n",
    "        \n",
    "        if not (callback is None):\n",
    "            callback(Err)\n",
    "            \n",
    "        ei_sum_0 = ei_sum_1\n",
    "        it += 1\n",
    "        if (abs(Err) <= error) or (it >= iter_num): terminate = True\n",
    "    return diag"
   ]
  },
  {
   "cell_type": "markdown",
   "metadata": {},
   "source": [
    "#### Extra documentation"
   ]
  },
  {
   "cell_type": "markdown",
   "metadata": {},
   "source": [
    "matrix $S_{i1}$ will make item $A_{i1}$ ($i th$ row and $1st$ column) <br>\n",
    "the form of $S_{i1}$ in this case will be: <br>\n",
    "\n",
    "$$\\begin{pmatrix} \\cos(\\theta_{i1}) &   &   & \\sin(\\theta_{i1}) &   &   &   \\\\\n",
    "                    & 1 &   &   &   &   &   \\\\\n",
    "                    &   & 1 &   &   &   &   \\\\\n",
    "                    -\\sin(\\theta_{i1}) &   &   & \\cos(\\theta_{i1}) &   &   &   \\\\\n",
    "                    &   &   &   & 1 &   &   \\\\\n",
    "                    &   &   &   &   & . &   \\\\\n",
    "                    &   &   &   &   &   & 1 \\\\\n",
    "\\end{pmatrix}$$"
   ]
  },
  {
   "cell_type": "markdown",
   "metadata": {},
   "source": [
    "note that, for **QR decomposition** <br>\n",
    "$R = Q^T A$ <br>\n",
    "also,\n",
    "$R = \\left[ \\prod_{i=1}^{n-1} \\prod_{j=i+1}^{n} S_{ji} \\right] A$ <br>\n",
    "then,\n",
    "$ Q^T  = \\left[ \\prod_{i=1}^{n-1} \\prod_{j=i+1}^{n} S_{ji} \\right] $ <br><br>\n",
    "when the algorithm iterates <br>\n",
    "at step $k+1$: $A_{k+1} = R_{k} \\cdot {Q}_k$ <br>\n",
    "but, $R_k = {Q^T}_k \\cdot A_k$ <br>\n",
    "then, $A_{k+1} = {Q^T}_k  A_k {Q}_k$ $\\Rightarrow$ _backward transformation_<br><br>\n",
    "\n",
    "algorithm work as the following:<br>\n",
    "for each iteration $k$<br>\n",
    "&emsp; for every column $j$ in $A_k$<br>\n",
    "&emsp; &emsp; generate $ S_{ij}$ <br>\n",
    "&emsp; &emsp; calculate $ S_{ij} A_k $<br>\n",
    "&emsp; &emsp; save $S_{ij}$ in $S$ list <br>\n",
    "&emsp; &emsp; the resulted $A$ at this point is $R$<br>\n",
    "&emsp; &emsp; &emsp; to get next $A ( = A_{k+1})$ , we should multiply $R ( = A_k)$ by $S^T ( = {\\left[ \\prod_{i=1}^{n-1} \\prod_{j=i+1}^{n} S_{ji} \\right]}^T)$<br>\n",
    "&emsp; &emsp; &emsp; backward transformation <br>\n",
    "\n",
    "&emsp; for every $S_{ij}$ in $S$ list<br>\n",
    "&emsp; &emsp; calculate $A_k {S_{ij}}^T$ <br>\n",
    "&emsp; result is $A_{k+1}$ <br>"
   ]
  },
  {
   "cell_type": "markdown",
   "metadata": {},
   "source": [
    "## Experiments with the given matrix (no Hessenberg )"
   ]
  },
  {
   "cell_type": "markdown",
   "metadata": {},
   "source": [
    "The following subtasks will be investigated: <br>\n",
    "QR iteration without Hessenberg (convergence speed, eigenvalues)\n",
    "1. unbounded iteration, error tolerence of $10^{-2}$\n",
    "2. unbounded iteration, error tolerence of $10^{-3}$\n",
    "3. unbounded error, $50$ iterations\n",
    "4. unbounded error, $200$ iterations\n",
    "5. applying noise ($100$ iterations)"
   ]
  },
  {
   "cell_type": "markdown",
   "metadata": {},
   "source": [
    "### Data dictionary"
   ]
  },
  {
   "cell_type": "code",
   "execution_count": 140,
   "metadata": {},
   "outputs": [
    {
     "name": "stdout",
     "output_type": "stream",
     "text": [
      "{'E = 1e-2': {'err': {}, 'it': {}}, 'E = 1e-3': {'err': {}, 'it': {}}, 'It 50': {'err': {}, 'it': {}}, 'It 200': {'err': {}, 'it': {}}, 'High noise': {'err': {}, 'it': {}}, 'Med noise': {'err': {}, 'it': {}}, 'Low noise': {'err': {}, 'it': {}}}\n"
     ]
    }
   ],
   "source": [
    "main_exps = [\"E = 1e-2\", \"E = 1e-3\", \"It 50\", \"It 200\", \"High noise\", \"Med noise\", \"Low noise\"]\n",
    "sub_exps = [\"err\", \"it\"]\n",
    "NoHess_results = dict()\n",
    "for main_exp in main_exps:\n",
    "    NoHess_results[main_exp] = {}\n",
    "    for sub_exp in sub_exps:\n",
    "        NoHess_results[main_exp].update({sub_exp: {}})\n",
    "print(NoHess_results)"
   ]
  },
  {
   "cell_type": "markdown",
   "metadata": {},
   "source": [
    "### Eigen values by Numpy package"
   ]
  },
  {
   "cell_type": "code",
   "execution_count": 141,
   "metadata": {},
   "outputs": [
    {
     "name": "stdout",
     "output_type": "stream",
     "text": [
      "Reference solution:\n",
      "(7.543172733478283+5.551115123125783e-16j)\n",
      "(-1.3858806384509044+1.0740254817832868j)\n",
      "(-1.3858806384509053-1.0740254817832873j)\n",
      "(2.114294271711765+0.43255302501720355j)\n",
      "(2.1142942717117656-0.4325530250172039j)\n"
     ]
    }
   ],
   "source": [
    "qr_mtx = np.copy(mat)\n",
    "ref_solution = np.linalg.eig(qr_mtx)[0]\n",
    "print(\"Reference solution:\")\n",
    "for E in ref_solution:\n",
    "    print(E)"
   ]
  },
  {
   "cell_type": "code",
   "execution_count": 142,
   "metadata": {},
   "outputs": [],
   "source": [
    "# Functions which will be used in the following tasks\n",
    "\n",
    "history = { \"it\": [], \"err\": []}\n",
    "def monitor_error(error):\n",
    "    history[\"err\"].append(error)\n",
    "    history[\"it\"].append(len(history[\"it\"]) + 1)\n",
    "    \n",
    "def show_graph(title):\n",
    "    plt.plot(history[\"it\"], history[\"err\"])\n",
    "\n",
    "    plt.xlabel('iteration')\n",
    "    plt.ylabel('error')\n",
    "    plt.title(title)\n",
    "    plt.show()\n",
    "\n",
    "def clear_history():\n",
    "    history[\"it\"].clear()\n",
    "    history[\"err\"].clear()"
   ]
  },
  {
   "cell_type": "markdown",
   "metadata": {},
   "source": [
    "#### QR without Hessenberg (error = $10^{-2}$)"
   ]
  },
  {
   "cell_type": "code",
   "execution_count": 143,
   "metadata": {
    "scrolled": true
   },
   "outputs": [
    {
     "name": "stderr",
     "output_type": "stream",
     "text": [
      "C:\\Users\\alshouha\\AppData\\Local\\Programs\\Python\\Python37\\lib\\site-packages\\ipykernel_launcher.py:7: ComplexWarning: Casting complex values to real discards the imaginary part\n",
      "  import sys\n",
      "C:\\Users\\alshouha\\AppData\\Local\\Programs\\Python\\Python37\\lib\\site-packages\\ipykernel_launcher.py:8: ComplexWarning: Casting complex values to real discards the imaginary part\n",
      "  \n",
      "C:\\Users\\alshouha\\AppData\\Local\\Programs\\Python\\Python37\\lib\\site-packages\\ipykernel_launcher.py:15: ComplexWarning: Casting complex values to real discards the imaginary part\n",
      "  from ipykernel import kernelapp as app\n",
      "C:\\Users\\alshouha\\AppData\\Local\\Programs\\Python\\Python37\\lib\\site-packages\\numpy\\core\\_asarray.py:83: ComplexWarning: Casting complex values to real discards the imaginary part\n",
      "  return array(a, dtype, copy=False, order=order)\n"
     ]
    },
    {
     "data": {
      "image/png": "[encoded data removed]",
      "text/plain": [
       "<Figure size 432x288 with 1 Axes>"
      ]
     },
     "metadata": {
      "needs_background": "light"
     },
     "output_type": "display_data"
    },
    {
     "name": "stdout",
     "output_type": "stream",
     "text": [
      "Error = (0.0018100650449639488+0j) after 47 iterations\n",
      "QR solution: [(7.543172733478279+0j), (2.114150711891103+0.43223520723712544j), (2.114150711891103-0.43223520723712544j), (-1.3857370786302385+1.074016312183859j), (-1.3857370786302385-1.074016312183859j)]\n",
      "Reference solution: [ 7.54317273+5.55111512e-16j -1.38588064+1.07402548e+00j\n",
      " -1.38588064-1.07402548e+00j  2.11429427+4.32553025e-01j\n",
      "  2.11429427-4.32553025e-01j]\n"
     ]
    }
   ],
   "source": [
    "shift = 'no shift'\n",
    "exp_name = 'E = 1e-2'\n",
    "qr_mtx = np.copy(mat)\n",
    "\n",
    "error = 1e-2\n",
    "e_vals = qr(qr_mtx, error=error, callback = monitor_error)\n",
    "\n",
    "show_graph(\"QR without Hessenberg (error = 1e-2)\")\n",
    "print(f'Error = {history[\"err\"][-1]} after {history[\"it\"][-1]} iterations')\n",
    "\n",
    "NoHess_results[exp_name]['err'][shift] = history[\"err\"][-1].real\n",
    "NoHess_results[exp_name]['it'][shift] = history[\"it\"][-1]\n",
    "\n",
    "clear_history()\n",
    "\n",
    "print(f\"QR solution: {e_vals}\")\n",
    "print(f\"Reference solution: {ref_solution}\")"
   ]
  },
  {
   "cell_type": "markdown",
   "metadata": {},
   "source": [
    "#### QR without Hessenberg (error = $10^{-3}$)"
   ]
  },
  {
   "cell_type": "code",
   "execution_count": 144,
   "metadata": {},
   "outputs": [
    {
     "name": "stderr",
     "output_type": "stream",
     "text": [
      "C:\\Users\\alshouha\\AppData\\Local\\Programs\\Python\\Python37\\lib\\site-packages\\ipykernel_launcher.py:7: ComplexWarning: Casting complex values to real discards the imaginary part\n",
      "  import sys\n",
      "C:\\Users\\alshouha\\AppData\\Local\\Programs\\Python\\Python37\\lib\\site-packages\\ipykernel_launcher.py:8: ComplexWarning: Casting complex values to real discards the imaginary part\n",
      "  \n",
      "C:\\Users\\alshouha\\AppData\\Local\\Programs\\Python\\Python37\\lib\\site-packages\\ipykernel_launcher.py:15: ComplexWarning: Casting complex values to real discards the imaginary part\n",
      "  from ipykernel import kernelapp as app\n",
      "C:\\Users\\alshouha\\AppData\\Local\\Programs\\Python\\Python37\\lib\\site-packages\\numpy\\core\\_asarray.py:83: ComplexWarning: Casting complex values to real discards the imaginary part\n",
      "  return array(a, dtype, copy=False, order=order)\n"
     ]
    },
    {
     "data": {
      "image/png": "[encoded data removed]",
      "text/plain": [
       "<Figure size 432x288 with 1 Axes>"
      ]
     },
     "metadata": {
      "needs_background": "light"
     },
     "output_type": "display_data"
    },
    {
     "name": "stdout",
     "output_type": "stream",
     "text": [
      "Error = (0.0006879282288565491+0j) after 48 iterations\n",
      "QR solution: [(7.543172733478279+0j), (2.1142649216393172+0.43197304091236244j), (2.1142649216393172-0.43197304091236244j), (-1.3858512883784528+1.0743337980894136j), (-1.3858512883784528-1.0743337980894136j)]\n",
      "Reference solution: [ 7.54317273+5.55111512e-16j -1.38588064+1.07402548e+00j\n",
      " -1.38588064-1.07402548e+00j  2.11429427+4.32553025e-01j\n",
      "  2.11429427-4.32553025e-01j]\n"
     ]
    }
   ],
   "source": [
    "shift = 'no shift'\n",
    "exp_name = 'E = 1e-3'\n",
    "qr_mtx = np.copy(mat)\n",
    "\n",
    "error = 1e-3\n",
    "e_vals = qr(qr_mtx, error=error, callback = monitor_error)\n",
    "\n",
    "show_graph(f'QR without Hessenberg (error = {error})')\n",
    "print(f'Error = {history[\"err\"][-1]} after {history[\"it\"][-1]} iterations')\n",
    "\n",
    "NoHess_results[exp_name]['err'][shift] = history[\"err\"][-1].real\n",
    "NoHess_results[exp_name]['it'][shift] = history[\"it\"][-1]\n",
    "\n",
    "clear_history()\n",
    "\n",
    "print(f\"QR solution: {e_vals}\")\n",
    "print(f\"Reference solution: {ref_solution}\")"
   ]
  },
  {
   "cell_type": "markdown",
   "metadata": {},
   "source": [
    "#### QR without Hessenberg (iterations = $50$)"
   ]
  },
  {
   "cell_type": "code",
   "execution_count": 145,
   "metadata": {
    "scrolled": true
   },
   "outputs": [
    {
     "name": "stderr",
     "output_type": "stream",
     "text": [
      "C:\\Users\\alshouha\\AppData\\Local\\Programs\\Python\\Python37\\lib\\site-packages\\ipykernel_launcher.py:7: ComplexWarning: Casting complex values to real discards the imaginary part\n",
      "  import sys\n",
      "C:\\Users\\alshouha\\AppData\\Local\\Programs\\Python\\Python37\\lib\\site-packages\\ipykernel_launcher.py:8: ComplexWarning: Casting complex values to real discards the imaginary part\n",
      "  \n",
      "C:\\Users\\alshouha\\AppData\\Local\\Programs\\Python\\Python37\\lib\\site-packages\\ipykernel_launcher.py:15: ComplexWarning: Casting complex values to real discards the imaginary part\n",
      "  from ipykernel import kernelapp as app\n",
      "C:\\Users\\alshouha\\AppData\\Local\\Programs\\Python\\Python37\\lib\\site-packages\\numpy\\core\\_asarray.py:83: ComplexWarning: Casting complex values to real discards the imaginary part\n",
      "  return array(a, dtype, copy=False, order=order)\n"
     ]
    },
    {
     "data": {
      "image/png": "[encoded data removed]",
      "text/plain": [
       "<Figure size 432x288 with 1 Axes>"
      ]
     },
     "metadata": {
      "needs_background": "light"
     },
     "output_type": "display_data"
    },
    {
     "name": "stdout",
     "output_type": "stream",
     "text": [
      "Error = (-0.010324196701674282+0j) after 50 iterations\n",
      "QR solution: [(7.543172733478279+0j), (2.1137892383402113+0.43188391261991055j), (2.1137892383402113-0.43188391261991055j), (-1.3853756050793473+1.0739820115692877j), (-1.3853756050793473-1.0739820115692877j)]\n",
      "Reference solution: [ 7.54317273+5.55111512e-16j -1.38588064+1.07402548e+00j\n",
      " -1.38588064-1.07402548e+00j  2.11429427+4.32553025e-01j\n",
      "  2.11429427-4.32553025e-01j]\n"
     ]
    }
   ],
   "source": [
    "shift = 'no shift'\n",
    "exp_name = 'It 50'\n",
    "qr_mtx = np.copy(mat)\n",
    "\n",
    "iter_num = 50\n",
    "e_vals = qr(qr_mtx, iter_num=iter_num, callback = monitor_error)\n",
    "\n",
    "show_graph(f'QR without Hessenberg (iter_num = {iter_num})')\n",
    "print(f'Error = {history[\"err\"][-1]} after {history[\"it\"][-1]} iterations')\n",
    "\n",
    "NoHess_results[exp_name]['err'][shift] = history[\"err\"][-1].real\n",
    "NoHess_results[exp_name]['it'][shift] = history[\"it\"][-1]\n",
    "\n",
    "clear_history()\n",
    "\n",
    "print(f\"QR solution: {e_vals}\")\n",
    "print(f\"Reference solution: {ref_solution}\")"
   ]
  },
  {
   "cell_type": "markdown",
   "metadata": {},
   "source": [
    "#### QR without Hessenberg (iterations = $200$)"
   ]
  },
  {
   "cell_type": "code",
   "execution_count": 146,
   "metadata": {
    "scrolled": true
   },
   "outputs": [
    {
     "name": "stderr",
     "output_type": "stream",
     "text": [
      "C:\\Users\\alshouha\\AppData\\Local\\Programs\\Python\\Python37\\lib\\site-packages\\ipykernel_launcher.py:7: ComplexWarning: Casting complex values to real discards the imaginary part\n",
      "  import sys\n",
      "C:\\Users\\alshouha\\AppData\\Local\\Programs\\Python\\Python37\\lib\\site-packages\\ipykernel_launcher.py:8: ComplexWarning: Casting complex values to real discards the imaginary part\n",
      "  \n",
      "C:\\Users\\alshouha\\AppData\\Local\\Programs\\Python\\Python37\\lib\\site-packages\\ipykernel_launcher.py:15: ComplexWarning: Casting complex values to real discards the imaginary part\n",
      "  from ipykernel import kernelapp as app\n",
      "C:\\Users\\alshouha\\AppData\\Local\\Programs\\Python\\Python37\\lib\\site-packages\\numpy\\core\\_asarray.py:83: ComplexWarning: Casting complex values to real discards the imaginary part\n",
      "  return array(a, dtype, copy=False, order=order)\n"
     ]
    },
    {
     "data": {
      "image/png": "[encoded data removed]",
      "text/plain": [
       "<Figure size 432x288 with 1 Axes>"
      ]
     },
     "metadata": {
      "needs_background": "light"
     },
     "output_type": "display_data"
    },
    {
     "name": "stdout",
     "output_type": "stream",
     "text": [
      "Error = (-9.74529939412605e-07+0j) after 90 iterations\n",
      "QR solution: [(7.543172733478279+0j), (2.114294267606425+0.4325530571133219j), (2.114294267606425-0.4325530571133219j), (-1.385880634345561+1.0740253415052285j), (-1.385880634345561-1.0740253415052285j)]\n",
      "Reference solution: [ 7.54317273+5.55111512e-16j -1.38588064+1.07402548e+00j\n",
      " -1.38588064-1.07402548e+00j  2.11429427+4.32553025e-01j\n",
      "  2.11429427-4.32553025e-01j]\n"
     ]
    }
   ],
   "source": [
    "shift = 'no shift'\n",
    "exp_name = 'It 200'\n",
    "qr_mtx = np.copy(mat)\n",
    "\n",
    "iter_num = 200\n",
    "e_vals = qr(qr_mtx, iter_num=iter_num, callback = monitor_error)\n",
    "\n",
    "show_graph(f'QR without Hessenberg (iter_num = {iter_num})')\n",
    "print(f'Error = {history[\"err\"][-1]} after {history[\"it\"][-1]} iterations')\n",
    "\n",
    "NoHess_results[exp_name]['err'][shift] = history[\"err\"][-1].real\n",
    "NoHess_results[exp_name]['it'][shift] = history[\"it\"][-1]\n",
    "\n",
    "clear_history()\n",
    "\n",
    "print(f\"QR solution: {e_vals}\")\n",
    "print(f\"Reference solution: {ref_solution}\")"
   ]
  },
  {
   "cell_type": "markdown",
   "metadata": {},
   "source": [
    "#### Applying noise"
   ]
  },
  {
   "cell_type": "code",
   "execution_count": 147,
   "metadata": {},
   "outputs": [
    {
     "name": "stdout",
     "output_type": "stream",
     "text": [
      "Original: \n",
      " [[2.+0.j 1.+0.j 6.+0.j 3.+0.j 5.+0.j]\n",
      " [1.+0.j 1.+0.j 3.+0.j 5.+0.j 1.+0.j]\n",
      " [0.+0.j 3.+0.j 1.+0.j 6.+0.j 2.+0.j]\n",
      " [0.+0.j 0.+0.j 2.+0.j 3.+0.j 1.+0.j]\n",
      " [0.+0.j 0.+0.j 0.+0.j 2.+0.j 2.+0.j]]\n",
      "Noise 1: \n",
      " [[ 3.55133911+0.j  1.07918602+0.j  6.17397653+0.j  2.92766343+0.j\n",
      "   2.9956706 +0.j]\n",
      " [ 1.14467781+0.j -0.50116862+0.j  3.21110945+0.j  4.44179494+0.j\n",
      "   2.08452906+0.j]\n",
      " [-0.18628912+0.j  3.01466137+0.j -0.07556947+0.j  6.64225207+0.j\n",
      "   1.81966329+0.j]\n",
      " [ 0.62030025+0.j  0.81097433+0.j  2.77793587+0.j  2.76251032+0.j\n",
      "  -0.89191235+0.j]\n",
      " [-1.17212179+0.j  0.83620697+0.j  1.0092734 +0.j  3.29309936+0.j\n",
      "   1.45066883+0.j]]\n",
      "Noise 2: \n",
      " [[ -7.81712865+0.j  10.14672758+0.j  14.73070378+0.j   3.22111142+0.j\n",
      "    4.95856416+0.j]\n",
      " [-12.49126151+0.j  -1.08217846+0.j  16.26540285+0.j  -4.1626058 +0.j\n",
      "   -3.70013146+0.j]\n",
      " [ -1.49442521+0.j  -0.25260117+0.j -17.05723456+0.j   0.99629811+0.j\n",
      "   -3.64780646+0.j]\n",
      " [ -3.14428573+0.j  -3.96677237+0.j   2.05933112+0.j  -6.97138246+0.j\n",
      "   17.91097584+0.j]\n",
      " [ -3.16440871+0.j  14.65134421+0.j  14.63601335+0.j   3.28911329+0.j\n",
      "   -9.78242861+0.j]]\n",
      "Noise 3: \n",
      " [[ 1.78334908e+00+0.j  8.47818712e-01+0.j  5.97071122e+00+0.j\n",
      "   3.01604883e+00+0.j  4.92171490e+00+0.j]\n",
      " [ 9.48259779e-01+0.j  1.26965689e+00+0.j  3.02752039e+00+0.j\n",
      "   4.87884075e+00+0.j  1.05872427e+00+0.j]\n",
      " [-9.81836479e-02+0.j  2.75614503e+00+0.j  1.01361175e+00+0.j\n",
      "   5.91924118e+00+0.j  2.00200811e+00+0.j]\n",
      " [ 1.75986028e-01+0.j  5.28975192e-03+0.j  1.91001897e+00+0.j\n",
      "   3.15884497e+00+0.j  7.82383836e-01+0.j]\n",
      " [-1.21721545e-01+0.j  1.35446929e-01+0.j  1.47722741e-01+0.j\n",
      "   1.96737795e+00+0.j  1.92161312e+00+0.j]]\n"
     ]
    }
   ],
   "source": [
    "np.random.seed(14)\n",
    "def noise(sigma): # standard normal distribution in the background\n",
    "    return np.random.randn(5, 5)/sigma\n",
    "\n",
    "# examples\n",
    "qr_mtx = np.copy(mat)\n",
    "qr_noise1 = qr_mtx + noise(1) # medium noise\n",
    "qr_noise2 = qr_mtx + noise(0.1) # high noise\n",
    "qr_noise3 = qr_mtx + noise(10) # small noise\n",
    "\n",
    "print(\"Original: \\n\", qr_mtx)\n",
    "print(\"Noise 1: \\n\", qr_noise1)\n",
    "print(\"Noise 2: \\n\", qr_noise2)\n",
    "print(\"Noise 3: \\n\", qr_noise3)"
   ]
  },
  {
   "cell_type": "markdown",
   "metadata": {},
   "source": [
    "##### First, low noise is applied. Results are similar like in the reference case."
   ]
  },
  {
   "cell_type": "code",
   "execution_count": 148,
   "metadata": {
    "scrolled": true
   },
   "outputs": [
    {
     "name": "stderr",
     "output_type": "stream",
     "text": [
      "C:\\Users\\alshouha\\AppData\\Local\\Programs\\Python\\Python37\\lib\\site-packages\\ipykernel_launcher.py:7: ComplexWarning: Casting complex values to real discards the imaginary part\n",
      "  import sys\n",
      "C:\\Users\\alshouha\\AppData\\Local\\Programs\\Python\\Python37\\lib\\site-packages\\ipykernel_launcher.py:8: ComplexWarning: Casting complex values to real discards the imaginary part\n",
      "  \n",
      "C:\\Users\\alshouha\\AppData\\Local\\Programs\\Python\\Python37\\lib\\site-packages\\ipykernel_launcher.py:15: ComplexWarning: Casting complex values to real discards the imaginary part\n",
      "  from ipykernel import kernelapp as app\n",
      "C:\\Users\\alshouha\\AppData\\Local\\Programs\\Python\\Python37\\lib\\site-packages\\numpy\\core\\_asarray.py:83: ComplexWarning: Casting complex values to real discards the imaginary part\n",
      "  return array(a, dtype, copy=False, order=order)\n"
     ]
    },
    {
     "data": {
      "image/png": "[encoded data removed]",
      "text/plain": [
       "<Figure size 432x288 with 1 Axes>"
      ]
     },
     "metadata": {
      "needs_background": "light"
     },
     "output_type": "display_data"
    },
    {
     "name": "stdout",
     "output_type": "stream",
     "text": [
      "Error = (-0.0004287486900409476+0j) after 40 iterations\n",
      "QR solution: [(7.610257885398359+0j), (1.720808616863017+0.5721545220625804j), (1.720808616863017-0.5721545220625804j), (-0.9523996513737395+0.9744028752884991j), (-0.9523996513737395-0.9744028752884991j)]\n",
      "Reference solution: [ 7.54317273+5.55111512e-16j -1.38588064+1.07402548e+00j\n",
      " -1.38588064-1.07402548e+00j  2.11429427+4.32553025e-01j\n",
      "  2.11429427-4.32553025e-01j]\n"
     ]
    }
   ],
   "source": [
    "shift = 'no shift'\n",
    "exp_name = 'Low noise'\n",
    "error = 1e-3\n",
    "e_vals = qr(qr_noise3, error=error, callback = monitor_error)\n",
    "\n",
    "show_graph(f'QR without Hessenberg (low noise = 10)')\n",
    "print(f'Error = {history[\"err\"][-1]} after {history[\"it\"][-1]} iterations')\n",
    "\n",
    "NoHess_results[exp_name]['err'][shift] = history[\"err\"][-1].real\n",
    "NoHess_results[exp_name]['it'][shift] = history[\"it\"][-1]\n",
    "\n",
    "clear_history()\n",
    "\n",
    "print(f\"QR solution: {e_vals}\")\n",
    "print(f\"Reference solution: {ref_solution}\")"
   ]
  },
  {
   "cell_type": "markdown",
   "metadata": {},
   "source": [
    "##### Second, the medium noise is applied. The result shows that the algorithm converges but the found eigenvalues are not that good. "
   ]
  },
  {
   "cell_type": "code",
   "execution_count": 149,
   "metadata": {},
   "outputs": [
    {
     "name": "stderr",
     "output_type": "stream",
     "text": [
      "C:\\Users\\alshouha\\AppData\\Local\\Programs\\Python\\Python37\\lib\\site-packages\\ipykernel_launcher.py:7: ComplexWarning: Casting complex values to real discards the imaginary part\n",
      "  import sys\n",
      "C:\\Users\\alshouha\\AppData\\Local\\Programs\\Python\\Python37\\lib\\site-packages\\ipykernel_launcher.py:8: ComplexWarning: Casting complex values to real discards the imaginary part\n",
      "  \n",
      "C:\\Users\\alshouha\\AppData\\Local\\Programs\\Python\\Python37\\lib\\site-packages\\ipykernel_launcher.py:15: ComplexWarning: Casting complex values to real discards the imaginary part\n",
      "  from ipykernel import kernelapp as app\n",
      "C:\\Users\\alshouha\\AppData\\Local\\Programs\\Python\\Python37\\lib\\site-packages\\numpy\\core\\_asarray.py:83: ComplexWarning: Casting complex values to real discards the imaginary part\n",
      "  return array(a, dtype, copy=False, order=order)\n"
     ]
    },
    {
     "data": {
      "image/png": "[encoded data removed]",
      "text/plain": [
       "<Figure size 432x288 with 1 Axes>"
      ]
     },
     "metadata": {
      "needs_background": "light"
     },
     "output_type": "display_data"
    },
    {
     "name": "stdout",
     "output_type": "stream",
     "text": [
      "Error = (-3.625899580583791e-10+0j) after 209 iterations\n",
      "QR solution: [(8.6112770858134+0j), (-3.2490897042871127+0j), (1.7981547733761487+2.25550147044679j), (1.7981547733761487-2.25550147044679j)]\n",
      "Reference solution: [ 7.54317273+5.55111512e-16j -1.38588064+1.07402548e+00j\n",
      " -1.38588064-1.07402548e+00j  2.11429427+4.32553025e-01j\n",
      "  2.11429427-4.32553025e-01j]\n"
     ]
    }
   ],
   "source": [
    "shift = 'no shift'\n",
    "exp_name = 'Med noise'\n",
    "error = 1e-3\n",
    "e_vals = qr(qr_noise1, error=error, callback = monitor_error)\n",
    "\n",
    "show_graph(f'QR without Hessenberg (medium noise = 1)')\n",
    "print(f'Error = {history[\"err\"][-1]} after {history[\"it\"][-1]} iterations')\n",
    "\n",
    "NoHess_results[exp_name]['err'][shift] = history[\"err\"][-1].real\n",
    "NoHess_results[exp_name]['it'][shift] = history[\"it\"][-1]\n",
    "\n",
    "clear_history()\n",
    "\n",
    "print(f\"QR solution: {e_vals}\")\n",
    "print(f\"Reference solution: {ref_solution}\")"
   ]
  },
  {
   "cell_type": "markdown",
   "metadata": {},
   "source": [
    "##### Third, the high noise is applied. Here the peaks are more frequent in the convergence graph."
   ]
  },
  {
   "cell_type": "code",
   "execution_count": 150,
   "metadata": {},
   "outputs": [
    {
     "name": "stderr",
     "output_type": "stream",
     "text": [
      "C:\\Users\\alshouha\\AppData\\Local\\Programs\\Python\\Python37\\lib\\site-packages\\ipykernel_launcher.py:15: ComplexWarning: Casting complex values to real discards the imaginary part\n",
      "  from ipykernel import kernelapp as app\n",
      "C:\\Users\\alshouha\\AppData\\Local\\Programs\\Python\\Python37\\lib\\site-packages\\ipykernel_launcher.py:7: ComplexWarning: Casting complex values to real discards the imaginary part\n",
      "  import sys\n",
      "C:\\Users\\alshouha\\AppData\\Local\\Programs\\Python\\Python37\\lib\\site-packages\\ipykernel_launcher.py:8: ComplexWarning: Casting complex values to real discards the imaginary part\n",
      "  \n",
      "C:\\Users\\alshouha\\AppData\\Local\\Programs\\Python\\Python37\\lib\\site-packages\\numpy\\core\\_asarray.py:83: ComplexWarning: Casting complex values to real discards the imaginary part\n",
      "  return array(a, dtype, copy=False, order=order)\n"
     ]
    },
    {
     "data": {
      "image/png": "[encoded data removed]",
      "text/plain": [
       "<Figure size 432x288 with 1 Axes>"
      ]
     },
     "metadata": {
      "needs_background": "light"
     },
     "output_type": "display_data"
    },
    {
     "name": "stdout",
     "output_type": "stream",
     "text": [
      "Error = (-4.3098680180264637e-10+0j) after 118 iterations\n",
      "QR solution: [(-20.008589471996576+0j), (-2.6055784303337917+15.607957902587831j), (-2.6055784303337917-15.607957902587831j), (-8.40487661747202+0j), (-9.085729797745312+0j)]\n",
      "Reference solution: [ 7.54317273+5.55111512e-16j -1.38588064+1.07402548e+00j\n",
      " -1.38588064-1.07402548e+00j  2.11429427+4.32553025e-01j\n",
      "  2.11429427-4.32553025e-01j]\n"
     ]
    }
   ],
   "source": [
    "shift = 'no shift'\n",
    "exp_name = 'High noise'\n",
    "error = 1e-3\n",
    "e_vals = qr(qr_noise2, error=error, callback = monitor_error)\n",
    "\n",
    "show_graph(f'QR without Hessenberg (high noise = 0.1)')\n",
    "print(f'Error = {history[\"err\"][-1]} after {history[\"it\"][-1]} iterations')\n",
    "\n",
    "NoHess_results[exp_name]['err'][shift] = history[\"err\"][-1].real\n",
    "NoHess_results[exp_name]['it'][shift] = history[\"it\"][-1]\n",
    "\n",
    "clear_history()\n",
    "\n",
    "print(f\"QR solution: {e_vals}\")\n",
    "print(f\"Reference solution: {ref_solution}\")"
   ]
  },
  {
   "cell_type": "markdown",
   "metadata": {},
   "source": [
    "##### Also, the huge noise is applied, but now without error limit for $50$ and $500$ iterations, and it shows either convergence to wrong eigenvalues or no convergence at all."
   ]
  },
  {
   "cell_type": "code",
   "execution_count": 151,
   "metadata": {},
   "outputs": [
    {
     "name": "stderr",
     "output_type": "stream",
     "text": [
      "C:\\Users\\alshouha\\AppData\\Local\\Programs\\Python\\Python37\\lib\\site-packages\\ipykernel_launcher.py:7: ComplexWarning: Casting complex values to real discards the imaginary part\n",
      "  import sys\n",
      "C:\\Users\\alshouha\\AppData\\Local\\Programs\\Python\\Python37\\lib\\site-packages\\ipykernel_launcher.py:8: ComplexWarning: Casting complex values to real discards the imaginary part\n",
      "  \n",
      "C:\\Users\\alshouha\\AppData\\Local\\Programs\\Python\\Python37\\lib\\site-packages\\ipykernel_launcher.py:15: ComplexWarning: Casting complex values to real discards the imaginary part\n",
      "  from ipykernel import kernelapp as app\n",
      "C:\\Users\\alshouha\\AppData\\Local\\Programs\\Python\\Python37\\lib\\site-packages\\numpy\\core\\_asarray.py:83: ComplexWarning: Casting complex values to real discards the imaginary part\n",
      "  return array(a, dtype, copy=False, order=order)\n"
     ]
    },
    {
     "data": {
      "image/png": "[encoded data removed]",
      "text/plain": [
       "<Figure size 432x288 with 1 Axes>"
      ]
     },
     "metadata": {
      "needs_background": "light"
     },
     "output_type": "display_data"
    },
    {
     "name": "stdout",
     "output_type": "stream",
     "text": [
      "Error = (38.223627896089624+0j) after 50 iterations\n",
      "QR solution: [(6.884312437752577+0j), (-22.686259330316354+0j), (15.776589931177655+0j), (12.337713352250153+0j)]\n",
      "Reference solution: [ 7.54317273+5.55111512e-16j -1.38588064+1.07402548e+00j\n",
      " -1.38588064-1.07402548e+00j  2.11429427+4.32553025e-01j\n",
      "  2.11429427-4.32553025e-01j]\n"
     ]
    }
   ],
   "source": [
    "# error = 1e-3\n",
    "qr_mtx = np.copy(mat)\n",
    "qr_noise2 = qr_mtx + noise(0.1) # huge noise\n",
    "iter_num=50\n",
    "error = 1e-12\n",
    "e_vals = qr(qr_noise2, iter_num=iter_num, error=error, callback = monitor_error)\n",
    "\n",
    "show_graph(f'QR without Hessenberg (high noise = 0.1)')\n",
    "print(f'Error = {history[\"err\"][-1]} after {history[\"it\"][-1]} iterations')\n",
    "clear_history()\n",
    "\n",
    "print(f\"QR solution: {e_vals}\")\n",
    "print(f\"Reference solution: {ref_solution}\")"
   ]
  },
  {
   "cell_type": "code",
   "execution_count": 152,
   "metadata": {},
   "outputs": [
    {
     "name": "stderr",
     "output_type": "stream",
     "text": [
      "C:\\Users\\alshouha\\AppData\\Local\\Programs\\Python\\Python37\\lib\\site-packages\\ipykernel_launcher.py:15: ComplexWarning: Casting complex values to real discards the imaginary part\n",
      "  from ipykernel import kernelapp as app\n",
      "C:\\Users\\alshouha\\AppData\\Local\\Programs\\Python\\Python37\\lib\\site-packages\\ipykernel_launcher.py:7: ComplexWarning: Casting complex values to real discards the imaginary part\n",
      "  import sys\n",
      "C:\\Users\\alshouha\\AppData\\Local\\Programs\\Python\\Python37\\lib\\site-packages\\ipykernel_launcher.py:8: ComplexWarning: Casting complex values to real discards the imaginary part\n",
      "  \n",
      "C:\\Users\\alshouha\\AppData\\Local\\Programs\\Python\\Python37\\lib\\site-packages\\numpy\\core\\_asarray.py:83: ComplexWarning: Casting complex values to real discards the imaginary part\n",
      "  return array(a, dtype, copy=False, order=order)\n"
     ]
    },
    {
     "data": {
      "image/png": "[encoded data removed]",
      "text/plain": [
       "<Figure size 432x288 with 1 Axes>"
      ]
     },
     "metadata": {
      "needs_background": "light"
     },
     "output_type": "display_data"
    },
    {
     "name": "stdout",
     "output_type": "stream",
     "text": [
      "Error = (9.094947017729282e-13+0j) after 277 iterations\n",
      "QR solution: [(-20.392392303346195+0j), (-3.963026947616354+17.67970313246257j), (-3.963026947616354-17.67970313246257j), (-12.2964318937726+0j)]\n",
      "Reference solution: [ 7.54317273+5.55111512e-16j -1.38588064+1.07402548e+00j\n",
      " -1.38588064-1.07402548e+00j  2.11429427+4.32553025e-01j\n",
      "  2.11429427-4.32553025e-01j]\n"
     ]
    }
   ],
   "source": [
    "# error = 1e-3\n",
    "qr_mtx = np.copy(mat)\n",
    "qr_noise2 = qr_mtx + noise(0.1) # huge noise\n",
    "iter_num=500\n",
    "error = 1e-12\n",
    "e_vals = qr(qr_noise2, iter_num=iter_num, error=error, callback = monitor_error)\n",
    "\n",
    "show_graph(f'QR without Hessenberg (huge noise = 0.1)')\n",
    "print(f'Error = {history[\"err\"][-1]} after {history[\"it\"][-1]} iterations')\n",
    "clear_history()\n",
    "\n",
    "print(f\"QR solution: {e_vals}\")\n",
    "print(f\"Reference solution: {ref_solution}\")"
   ]
  },
  {
   "cell_type": "markdown",
   "metadata": {},
   "source": [
    "## Transformation to Hessenberg matrix - Implementation"
   ]
  },
  {
   "cell_type": "markdown",
   "metadata": {},
   "source": [
    "The shape of the Hessenberg matrix remains invariant for the QR transformation. Therefore after a QR transformation the resulting matrix is also in Hessenberg form."
   ]
  },
  {
   "cell_type": "markdown",
   "metadata": {},
   "source": [
    "Instead of working with **A**, it is transformed into **Hessenberg** form (close to upper triangualar form) where the eignevalues remain the same, in order to reduce the complixity from **O($n^3$)** ( O($n^2$) rotation and O($n$) multiplication) into **O($n^2$)**. <br>\n",
    "$A \\rightarrow F = Z^{-1} A Z$ <br>\n",
    "where $Z$ is a lower triangular matrix and $F$ is the in Hessenberg form: <br>\n",
    "$$\\begin{pmatrix}   f_{11} & f_{21} & . & . & . &   & f_{1n}  \\\\\n",
    "                    1 & f_{22} & . & . & . &   & f_{2n}  \\\\\n",
    "                    0 &   &  1 &  &   &   & . \\\\\n",
    "                    . &   &    & . &   &   & . \\\\\n",
    "                    . &   &   &   & . &   &   \\\\\n",
    "                    &   &   &   &   &   &   \\\\\n",
    "                    0 & 0 & . & . &   & 1 & f_{nn}  \\\\\n",
    "\\end{pmatrix}$$\n",
    "<br>\n",
    "<br>\n",
    "shifting is used to speed up the convergence, in other words, instead of working with $F_k$ it is shifted by a scalar. <br>\n",
    "The slow convergence might be caused when two values are close to each other (uisng Hessenberg). <br>\n",
    "_we need $\\lambda_i << \\lambda_{i-1}  \\rightarrow \\left|\\frac{\\lambda_i}{\\lambda_{i-1}}\\right| < 1$ <br>\n",
    "$k \\rightarrow \\infty \\longmapsto {(\\frac{\\lambda_i}{\\lambda_{i-1}})}^{k} \\rightarrow 0$_ <br>\n",
    "so, what we do is to $\\frac{\\lambda_i}{\\lambda_{i-1}} \\longmapsto \\frac{\\lambda_i - s_k}{\\lambda_{i-1} - s_k}$, where $s_k$ is the shifting scalar."
   ]
  },
  {
   "cell_type": "markdown",
   "metadata": {},
   "source": [
    "In order to get eigenvectors for **A**, we find **F** eigenvectors first, by solving: <br>\n",
    "$(\\lambda - I - F) y = 0$, where $y$ is the eigenvector with $\\lambda$ eigenvalue. <br>\n",
    "In general: <br>\n",
    "$y_i = \\lambda y_{i+1} - \\sum_{i=j+1}^{n} f_{j+1, i} . y_i$ <br>\n",
    "then, **A** eigenvector is $Z.y$ <br>\n",
    "because: <br>\n",
    "$F.y = \\lambda y$  and $A.Z = Z.F$<br>\n",
    "then, <br>\n",
    "$A.(Z.y) = \\lambda .(Z.y)$<br>"
   ]
  },
  {
   "cell_type": "code",
   "execution_count": 153,
   "metadata": {},
   "outputs": [],
   "source": [
    "from scipy.linalg import hessenberg\n",
    "\n",
    "# def transform_Hessenberg(mtx):\n",
    "#     A = np.copy(mtx)\n",
    "#     # init F\n",
    "#     F = np.zeros(A.shape) \n",
    "#     for idx in range(1, A.shape[0]):\n",
    "#         F[idx, idx - 1] = 1.0\n",
    "#     Z = np.zeros(A.shape)\n",
    "#     Z[0, 0] = 1.0\n",
    "#     for k in range(1, A.shape[1] + 1):\n",
    "#         Azk = np.matmul(A, Z[:, k - 1])\n",
    "#         for i in range(0, k):\n",
    "#             temp = 0.0\n",
    "#             for j in range(0, i):\n",
    "#                 temp += F[j, k - 1] * Z[i, j]\n",
    "#             F[i, k - 1] = (Azk[i] - temp) / Z[i, i]\n",
    "        \n",
    "#         if k < A.shape[1]: # to get the last row of F, but here Z[:, k] would be out of range\n",
    "#             Z[:, k] = Azk[:]\n",
    "#             for t in range(0, k):\n",
    "#                 Z[:, k] -= F[t, k - 1] * Z[:, t]\n",
    "\n",
    "#     return F, Z"
   ]
  },
  {
   "cell_type": "markdown",
   "metadata": {},
   "source": [
    "## Experiments with the given matrix (Hessenberg)"
   ]
  },
  {
   "cell_type": "markdown",
   "metadata": {},
   "source": [
    "Similarly, the following subtasks will be investigated: <br>\n",
    "QR iteration with Hessenberg (convergence speed, eigenvalues)\n",
    "1. unbounded iteration, error tolerence of $10^{-2}$\n",
    "2. unbounded iteration, error tolerence of $10^{-3}$\n",
    "3. unbounded error, $50$ iterations\n",
    "4. unbounded error, $200$ iterations\n",
    "5. applying noise ($100$ iterations)"
   ]
  },
  {
   "cell_type": "markdown",
   "metadata": {},
   "source": [
    "### Eigen values by Numpy package"
   ]
  },
  {
   "cell_type": "code",
   "execution_count": 154,
   "metadata": {
    "scrolled": true
   },
   "outputs": [
    {
     "name": "stdout",
     "output_type": "stream",
     "text": [
      "Reference solution:\n",
      "(7.543172733478283+5.551115123125783e-16j)\n",
      "(-1.3858806384509044+1.0740254817832868j)\n",
      "(-1.3858806384509053-1.0740254817832873j)\n",
      "(2.114294271711765+0.43255302501720355j)\n",
      "(2.1142942717117656-0.4325530250172039j)\n"
     ]
    }
   ],
   "source": [
    "qr_mtx = np.copy(mat)\n",
    "ref_solution = np.linalg.eig(qr_mtx)[0]\n",
    "print(\"Reference solution:\")\n",
    "for E in ref_solution:\n",
    "    print(E)"
   ]
  },
  {
   "cell_type": "markdown",
   "metadata": {},
   "source": [
    "### Data dictionary"
   ]
  },
  {
   "cell_type": "code",
   "execution_count": 155,
   "metadata": {},
   "outputs": [
    {
     "name": "stdout",
     "output_type": "stream",
     "text": [
      "{'E = 1e-2': {'err': {}, 'it': {}}, 'E = 1e-3': {'err': {}, 'it': {}}, 'It 50': {'err': {}, 'it': {}}, 'It 200': {'err': {}, 'it': {}}, 'High noise': {'err': {}, 'it': {}}, 'Med noise': {'err': {}, 'it': {}}, 'Low noise': {'err': {}, 'it': {}}}\n"
     ]
    }
   ],
   "source": [
    "main_exps = [\"E = 1e-2\", \"E = 1e-3\", \"It 50\", \"It 200\", \"High noise\", \"Med noise\", \"Low noise\"]\n",
    "sub_exps = [\"err\", \"it\"]\n",
    "Hess_results = dict()\n",
    "for main_exp in main_exps:\n",
    "    Hess_results[main_exp] = {}\n",
    "    for sub_exp in sub_exps:\n",
    "        Hess_results[main_exp].update({sub_exp: {}})\n",
    "print(Hess_results)"
   ]
  },
  {
   "cell_type": "code",
   "execution_count": 156,
   "metadata": {},
   "outputs": [],
   "source": [
    "# Functions which will be used in the following tasks\n",
    "\n",
    "history = { \"it\": [], \"err\": []}\n",
    "def monitor_error(error):\n",
    "    history[\"err\"].append(error)\n",
    "    history[\"it\"].append(len(history[\"it\"]) + 1)\n",
    "    \n",
    "def show_graph(title):\n",
    "    plt.plot(history[\"it\"], history[\"err\"])\n",
    "\n",
    "    plt.xlabel('iteration')\n",
    "    plt.ylabel('error')\n",
    "    plt.title(title)\n",
    "    plt.show()\n",
    "\n",
    "def clear_history():\n",
    "    history[\"it\"].clear()\n",
    "    history[\"err\"].clear()"
   ]
  },
  {
   "cell_type": "markdown",
   "metadata": {},
   "source": [
    "#### QR with Hessenberg (error = $10^{-2}$)"
   ]
  },
  {
   "cell_type": "code",
   "execution_count": 157,
   "metadata": {
    "scrolled": true
   },
   "outputs": [
    {
     "name": "stderr",
     "output_type": "stream",
     "text": [
      "C:\\Users\\alshouha\\AppData\\Local\\Programs\\Python\\Python37\\lib\\site-packages\\ipykernel_launcher.py:7: ComplexWarning: Casting complex values to real discards the imaginary part\n",
      "  import sys\n",
      "C:\\Users\\alshouha\\AppData\\Local\\Programs\\Python\\Python37\\lib\\site-packages\\ipykernel_launcher.py:8: ComplexWarning: Casting complex values to real discards the imaginary part\n",
      "  \n",
      "C:\\Users\\alshouha\\AppData\\Local\\Programs\\Python\\Python37\\lib\\site-packages\\ipykernel_launcher.py:15: ComplexWarning: Casting complex values to real discards the imaginary part\n",
      "  from ipykernel import kernelapp as app\n",
      "C:\\Users\\alshouha\\AppData\\Local\\Programs\\Python\\Python37\\lib\\site-packages\\numpy\\core\\_asarray.py:83: ComplexWarning: Casting complex values to real discards the imaginary part\n",
      "  return array(a, dtype, copy=False, order=order)\n"
     ]
    },
    {
     "data": {
      "image/png": "[encoded data removed]",
      "text/plain": [
       "<Figure size 432x288 with 1 Axes>"
      ]
     },
     "metadata": {
      "needs_background": "light"
     },
     "output_type": "display_data"
    },
    {
     "name": "stdout",
     "output_type": "stream",
     "text": [
      "Error = (0.0018100650449639488+0j) after 47 iterations\n",
      "QR solution: [(7.543172733478279+0j), (2.114150711891103+0.43223520723712544j), (2.114150711891103-0.43223520723712544j), (-1.3857370786302385+1.074016312183859j), (-1.3857370786302385-1.074016312183859j)]\n",
      "Reference solution: [ 7.54317273+5.55111512e-16j -1.38588064+1.07402548e+00j\n",
      " -1.38588064-1.07402548e+00j  2.11429427+4.32553025e-01j\n",
      "  2.11429427-4.32553025e-01j]\n"
     ]
    }
   ],
   "source": [
    "shift = 'no shift'\n",
    "exp_name = 'E = 1e-2'\n",
    "qr_mtx = np.copy(mat)\n",
    "qr_f = hessenberg(qr_mtx)\n",
    "\n",
    "error = 1e-2\n",
    "e_vals = qr(qr_f, error=error, callback = monitor_error)\n",
    "\n",
    "show_graph(\"QR with Hessenberg (error = 1e-2)\")\n",
    "print(f'Error = {history[\"err\"][-1]} after {history[\"it\"][-1]} iterations')\n",
    "\n",
    "Hess_results[exp_name]['err'][shift] = history[\"err\"][-1].real\n",
    "Hess_results[exp_name]['it'][shift] = history[\"it\"][-1]\n",
    "\n",
    "clear_history()\n",
    "\n",
    "print(f\"QR solution: {e_vals}\")\n",
    "print(f\"Reference solution: {ref_solution}\")"
   ]
  },
  {
   "cell_type": "markdown",
   "metadata": {},
   "source": [
    "#### QR with Hessenberg (error = $10^{-3}$)"
   ]
  },
  {
   "cell_type": "code",
   "execution_count": 158,
   "metadata": {},
   "outputs": [
    {
     "name": "stderr",
     "output_type": "stream",
     "text": [
      "C:\\Users\\alshouha\\AppData\\Local\\Programs\\Python\\Python37\\lib\\site-packages\\ipykernel_launcher.py:7: ComplexWarning: Casting complex values to real discards the imaginary part\n",
      "  import sys\n",
      "C:\\Users\\alshouha\\AppData\\Local\\Programs\\Python\\Python37\\lib\\site-packages\\ipykernel_launcher.py:8: ComplexWarning: Casting complex values to real discards the imaginary part\n",
      "  \n",
      "C:\\Users\\alshouha\\AppData\\Local\\Programs\\Python\\Python37\\lib\\site-packages\\ipykernel_launcher.py:15: ComplexWarning: Casting complex values to real discards the imaginary part\n",
      "  from ipykernel import kernelapp as app\n",
      "C:\\Users\\alshouha\\AppData\\Local\\Programs\\Python\\Python37\\lib\\site-packages\\numpy\\core\\_asarray.py:83: ComplexWarning: Casting complex values to real discards the imaginary part\n",
      "  return array(a, dtype, copy=False, order=order)\n"
     ]
    },
    {
     "data": {
      "image/png": "[encoded data removed]",
      "text/plain": [
       "<Figure size 432x288 with 1 Axes>"
      ]
     },
     "metadata": {
      "needs_background": "light"
     },
     "output_type": "display_data"
    },
    {
     "name": "stdout",
     "output_type": "stream",
     "text": [
      "Error = (0.0006879282288565491+0j) after 48 iterations\n",
      "QR solution: [(7.543172733478279+0j), (2.1142649216393172+0.43197304091236244j), (2.1142649216393172-0.43197304091236244j), (-1.3858512883784528+1.0743337980894136j), (-1.3858512883784528-1.0743337980894136j)]\n",
      "Reference solution: [ 7.54317273+5.55111512e-16j -1.38588064+1.07402548e+00j\n",
      " -1.38588064-1.07402548e+00j  2.11429427+4.32553025e-01j\n",
      "  2.11429427-4.32553025e-01j]\n"
     ]
    }
   ],
   "source": [
    "shift = 'no shift'\n",
    "exp_name = 'E = 1e-3'\n",
    "qr_mtx = np.copy(mat)\n",
    "qr_f = hessenberg(qr_mtx)\n",
    "\n",
    "error = 1e-3\n",
    "e_vals = qr(qr_f, error=error, callback = monitor_error)\n",
    "\n",
    "show_graph(f'QR with Hessenberg (error = {error})')\n",
    "print(f'Error = {history[\"err\"][-1]} after {history[\"it\"][-1]} iterations')\n",
    "\n",
    "Hess_results[exp_name]['err'][shift] = history[\"err\"][-1].real\n",
    "Hess_results[exp_name]['it'][shift] = history[\"it\"][-1]\n",
    "\n",
    "clear_history()\n",
    "\n",
    "print(f\"QR solution: {e_vals}\")\n",
    "print(f\"Reference solution: {ref_solution}\")"
   ]
  },
  {
   "cell_type": "markdown",
   "metadata": {},
   "source": [
    "#### QR with Hessenberg (iterations = $50$)"
   ]
  },
  {
   "cell_type": "code",
   "execution_count": 159,
   "metadata": {},
   "outputs": [
    {
     "name": "stderr",
     "output_type": "stream",
     "text": [
      "C:\\Users\\alshouha\\AppData\\Local\\Programs\\Python\\Python37\\lib\\site-packages\\ipykernel_launcher.py:7: ComplexWarning: Casting complex values to real discards the imaginary part\n",
      "  import sys\n",
      "C:\\Users\\alshouha\\AppData\\Local\\Programs\\Python\\Python37\\lib\\site-packages\\ipykernel_launcher.py:8: ComplexWarning: Casting complex values to real discards the imaginary part\n",
      "  \n",
      "C:\\Users\\alshouha\\AppData\\Local\\Programs\\Python\\Python37\\lib\\site-packages\\ipykernel_launcher.py:15: ComplexWarning: Casting complex values to real discards the imaginary part\n",
      "  from ipykernel import kernelapp as app\n",
      "C:\\Users\\alshouha\\AppData\\Local\\Programs\\Python\\Python37\\lib\\site-packages\\numpy\\core\\_asarray.py:83: ComplexWarning: Casting complex values to real discards the imaginary part\n",
      "  return array(a, dtype, copy=False, order=order)\n"
     ]
    },
    {
     "data": {
      "image/png": "[encoded data removed]",
      "text/plain": [
       "<Figure size 432x288 with 1 Axes>"
      ]
     },
     "metadata": {
      "needs_background": "light"
     },
     "output_type": "display_data"
    },
    {
     "name": "stdout",
     "output_type": "stream",
     "text": [
      "Error = (-0.010324196701674282+0j) after 50 iterations\n",
      "QR solution: [(7.543172733478279+0j), (2.1137892383402113+0.43188391261991055j), (2.1137892383402113-0.43188391261991055j), (-1.3853756050793473+1.0739820115692877j), (-1.3853756050793473-1.0739820115692877j)]\n",
      "Reference solution: [ 7.54317273+5.55111512e-16j -1.38588064+1.07402548e+00j\n",
      " -1.38588064-1.07402548e+00j  2.11429427+4.32553025e-01j\n",
      "  2.11429427-4.32553025e-01j]\n"
     ]
    }
   ],
   "source": [
    "shift = 'no shift'\n",
    "exp_name = 'It 50'\n",
    "qr_mtx = np.copy(mat)\n",
    "qr_f = hessenberg(qr_mtx)\n",
    "\n",
    "iter_num = 50\n",
    "e_vals = qr(qr_f, iter_num=iter_num, callback = monitor_error)\n",
    "\n",
    "show_graph(f'QR without Hessenberg (iter_num = {iter_num})')\n",
    "print(f'Error = {history[\"err\"][-1]} after {history[\"it\"][-1]} iterations')\n",
    "\n",
    "Hess_results[exp_name]['err'][shift] = history[\"err\"][-1].real\n",
    "Hess_results[exp_name]['it'][shift] = history[\"it\"][-1]\n",
    "\n",
    "clear_history()\n",
    "\n",
    "print(f\"QR solution: {e_vals}\")\n",
    "print(f\"Reference solution: {ref_solution}\")"
   ]
  },
  {
   "cell_type": "markdown",
   "metadata": {},
   "source": [
    "#### QR with Hessenberg (iterations = $200$)"
   ]
  },
  {
   "cell_type": "code",
   "execution_count": 160,
   "metadata": {
    "scrolled": true
   },
   "outputs": [
    {
     "name": "stderr",
     "output_type": "stream",
     "text": [
      "C:\\Users\\alshouha\\AppData\\Local\\Programs\\Python\\Python37\\lib\\site-packages\\ipykernel_launcher.py:7: ComplexWarning: Casting complex values to real discards the imaginary part\n",
      "  import sys\n",
      "C:\\Users\\alshouha\\AppData\\Local\\Programs\\Python\\Python37\\lib\\site-packages\\ipykernel_launcher.py:8: ComplexWarning: Casting complex values to real discards the imaginary part\n",
      "  \n",
      "C:\\Users\\alshouha\\AppData\\Local\\Programs\\Python\\Python37\\lib\\site-packages\\ipykernel_launcher.py:15: ComplexWarning: Casting complex values to real discards the imaginary part\n",
      "  from ipykernel import kernelapp as app\n",
      "C:\\Users\\alshouha\\AppData\\Local\\Programs\\Python\\Python37\\lib\\site-packages\\numpy\\core\\_asarray.py:83: ComplexWarning: Casting complex values to real discards the imaginary part\n",
      "  return array(a, dtype, copy=False, order=order)\n"
     ]
    },
    {
     "data": {
      "image/png": "[encoded data removed]",
      "text/plain": [
       "<Figure size 432x288 with 1 Axes>"
      ]
     },
     "metadata": {
      "needs_background": "light"
     },
     "output_type": "display_data"
    },
    {
     "name": "stdout",
     "output_type": "stream",
     "text": [
      "Error = (-9.74529939412605e-07+0j) after 90 iterations\n",
      "QR solution: [(7.543172733478279+0j), (2.114294267606425+0.4325530571133219j), (2.114294267606425-0.4325530571133219j), (-1.385880634345561+1.0740253415052285j), (-1.385880634345561-1.0740253415052285j)]\n",
      "Reference solution: [ 7.54317273+5.55111512e-16j -1.38588064+1.07402548e+00j\n",
      " -1.38588064-1.07402548e+00j  2.11429427+4.32553025e-01j\n",
      "  2.11429427-4.32553025e-01j]\n"
     ]
    }
   ],
   "source": [
    "shift = 'no shift'\n",
    "exp_name = 'It 200'\n",
    "qr_mtx = np.copy(mat)\n",
    "qr_f = hessenberg(qr_mtx)\n",
    "\n",
    "iter_num = 200\n",
    "e_vals = qr(qr_f, iter_num=iter_num, callback = monitor_error)\n",
    "\n",
    "show_graph(f'QR without Hessenberg (iter_num = {iter_num})')\n",
    "print(f'Error = {history[\"err\"][-1]} after {history[\"it\"][-1]} iterations')\n",
    "\n",
    "Hess_results[exp_name]['err'][shift] = history[\"err\"][-1].real\n",
    "Hess_results[exp_name]['it'][shift] = history[\"it\"][-1]\n",
    "\n",
    "clear_history()\n",
    "\n",
    "print(f\"QR solution: {e_vals}\")\n",
    "print(f\"Reference solution: {ref_solution}\")"
   ]
  },
  {
   "cell_type": "markdown",
   "metadata": {},
   "source": [
    "#### Applying noise"
   ]
  },
  {
   "cell_type": "code",
   "execution_count": 161,
   "metadata": {},
   "outputs": [
    {
     "name": "stdout",
     "output_type": "stream",
     "text": [
      "Original: \n",
      " [[2.+0.j 1.+0.j 6.+0.j 3.+0.j 5.+0.j]\n",
      " [1.+0.j 1.+0.j 3.+0.j 5.+0.j 1.+0.j]\n",
      " [0.+0.j 3.+0.j 1.+0.j 6.+0.j 2.+0.j]\n",
      " [0.+0.j 0.+0.j 2.+0.j 3.+0.j 1.+0.j]\n",
      " [0.+0.j 0.+0.j 0.+0.j 2.+0.j 2.+0.j]]\n",
      "Noise 1: \n",
      " [[ 3.55133911+0.j  1.07918602+0.j  6.17397653+0.j  2.92766343+0.j\n",
      "   2.9956706 +0.j]\n",
      " [ 1.14467781+0.j -0.50116862+0.j  3.21110945+0.j  4.44179494+0.j\n",
      "   2.08452906+0.j]\n",
      " [-0.18628912+0.j  3.01466137+0.j -0.07556947+0.j  6.64225207+0.j\n",
      "   1.81966329+0.j]\n",
      " [ 0.62030025+0.j  0.81097433+0.j  2.77793587+0.j  2.76251032+0.j\n",
      "  -0.89191235+0.j]\n",
      " [-1.17212179+0.j  0.83620697+0.j  1.0092734 +0.j  3.29309936+0.j\n",
      "   1.45066883+0.j]]\n",
      "Noise 2: \n",
      " [[ -7.81712865+0.j  10.14672758+0.j  14.73070378+0.j   3.22111142+0.j\n",
      "    4.95856416+0.j]\n",
      " [-12.49126151+0.j  -1.08217846+0.j  16.26540285+0.j  -4.1626058 +0.j\n",
      "   -3.70013146+0.j]\n",
      " [ -1.49442521+0.j  -0.25260117+0.j -17.05723456+0.j   0.99629811+0.j\n",
      "   -3.64780646+0.j]\n",
      " [ -3.14428573+0.j  -3.96677237+0.j   2.05933112+0.j  -6.97138246+0.j\n",
      "   17.91097584+0.j]\n",
      " [ -3.16440871+0.j  14.65134421+0.j  14.63601335+0.j   3.28911329+0.j\n",
      "   -9.78242861+0.j]]\n",
      "Noise 3: \n",
      " [[ 1.78334908e+00+0.j  8.47818712e-01+0.j  5.97071122e+00+0.j\n",
      "   3.01604883e+00+0.j  4.92171490e+00+0.j]\n",
      " [ 9.48259779e-01+0.j  1.26965689e+00+0.j  3.02752039e+00+0.j\n",
      "   4.87884075e+00+0.j  1.05872427e+00+0.j]\n",
      " [-9.81836479e-02+0.j  2.75614503e+00+0.j  1.01361175e+00+0.j\n",
      "   5.91924118e+00+0.j  2.00200811e+00+0.j]\n",
      " [ 1.75986028e-01+0.j  5.28975192e-03+0.j  1.91001897e+00+0.j\n",
      "   3.15884497e+00+0.j  7.82383836e-01+0.j]\n",
      " [-1.21721545e-01+0.j  1.35446929e-01+0.j  1.47722741e-01+0.j\n",
      "   1.96737795e+00+0.j  1.92161312e+00+0.j]]\n"
     ]
    }
   ],
   "source": [
    "np.random.seed(14)\n",
    "def noise(sigma): # standard normal distribution in the background\n",
    "    return np.random.randn(5, 5)/sigma\n",
    "\n",
    "# examples\n",
    "qr_mtx = np.copy(mat)\n",
    "qr_noise1 = qr_mtx + noise(1) # medium noise\n",
    "qr_noise2 = qr_mtx + noise(0.1) # huge noise\n",
    "qr_noise3 = qr_mtx + noise(10) # small noise\n",
    "\n",
    "print(\"Original: \\n\", qr_mtx)\n",
    "print(\"Noise 1: \\n\", qr_noise1)\n",
    "print(\"Noise 2: \\n\", qr_noise2)\n",
    "print(\"Noise 3: \\n\", qr_noise3)"
   ]
  },
  {
   "cell_type": "markdown",
   "metadata": {},
   "source": [
    "##### First, low noise is applied. Results are similar like in the reference case."
   ]
  },
  {
   "cell_type": "code",
   "execution_count": 162,
   "metadata": {},
   "outputs": [
    {
     "name": "stderr",
     "output_type": "stream",
     "text": [
      "C:\\Users\\alshouha\\AppData\\Local\\Programs\\Python\\Python37\\lib\\site-packages\\ipykernel_launcher.py:7: ComplexWarning: Casting complex values to real discards the imaginary part\n",
      "  import sys\n",
      "C:\\Users\\alshouha\\AppData\\Local\\Programs\\Python\\Python37\\lib\\site-packages\\ipykernel_launcher.py:8: ComplexWarning: Casting complex values to real discards the imaginary part\n",
      "  \n",
      "C:\\Users\\alshouha\\AppData\\Local\\Programs\\Python\\Python37\\lib\\site-packages\\ipykernel_launcher.py:15: ComplexWarning: Casting complex values to real discards the imaginary part\n",
      "  from ipykernel import kernelapp as app\n",
      "C:\\Users\\alshouha\\AppData\\Local\\Programs\\Python\\Python37\\lib\\site-packages\\numpy\\core\\_asarray.py:83: ComplexWarning: Casting complex values to real discards the imaginary part\n",
      "  return array(a, dtype, copy=False, order=order)\n"
     ]
    },
    {
     "data": {
      "image/png": "[encoded data removed]",
      "text/plain": [
       "<Figure size 432x288 with 1 Axes>"
      ]
     },
     "metadata": {
      "needs_background": "light"
     },
     "output_type": "display_data"
    },
    {
     "name": "stdout",
     "output_type": "stream",
     "text": [
      "Error = (3.9912874306935464e-05+0j) after 39 iterations\n",
      "QR solution: [(7.610257885398357+0j), (1.7207484745059465+0.5714941581144101j), (1.7207484745059465-0.5714941581144101j), (-0.9523395090166695+0.9746908920185114j), (-0.9523395090166695-0.9746908920185114j)]\n",
      "Reference solution: [ 7.54317273+5.55111512e-16j -1.38588064+1.07402548e+00j\n",
      " -1.38588064-1.07402548e+00j  2.11429427+4.32553025e-01j\n",
      "  2.11429427-4.32553025e-01j]\n"
     ]
    }
   ],
   "source": [
    "shift = 'no shift'\n",
    "exp_name = 'Low noise'\n",
    "qr_mtx = np.copy(qr_noise3)\n",
    "qr_f = hessenberg(qr_mtx)\n",
    "\n",
    "error = 1e-3\n",
    "e_vals = qr(qr_f, error=error, callback = monitor_error)\n",
    "\n",
    "show_graph(f'QR without Hessenberg (low noise = 10)')\n",
    "print(f'Error = {history[\"err\"][-1]} after {history[\"it\"][-1]} iterations')\n",
    "\n",
    "Hess_results[exp_name]['err'][shift] = history[\"err\"][-1].real\n",
    "Hess_results[exp_name]['it'][shift] = history[\"it\"][-1]\n",
    "\n",
    "clear_history()\n",
    "\n",
    "print(f\"QR solution: {e_vals}\")\n",
    "print(f\"Reference solution: {ref_solution}\")"
   ]
  },
  {
   "cell_type": "markdown",
   "metadata": {},
   "source": [
    "##### Second, the medium noise is applied. The result shows that the algorithm converges but the found eigenvalues are not that good. "
   ]
  },
  {
   "cell_type": "code",
   "execution_count": 163,
   "metadata": {},
   "outputs": [
    {
     "name": "stderr",
     "output_type": "stream",
     "text": [
      "C:\\Users\\alshouha\\AppData\\Local\\Programs\\Python\\Python37\\lib\\site-packages\\ipykernel_launcher.py:7: ComplexWarning: Casting complex values to real discards the imaginary part\n",
      "  import sys\n",
      "C:\\Users\\alshouha\\AppData\\Local\\Programs\\Python\\Python37\\lib\\site-packages\\ipykernel_launcher.py:8: ComplexWarning: Casting complex values to real discards the imaginary part\n",
      "  \n",
      "C:\\Users\\alshouha\\AppData\\Local\\Programs\\Python\\Python37\\lib\\site-packages\\ipykernel_launcher.py:15: ComplexWarning: Casting complex values to real discards the imaginary part\n",
      "  from ipykernel import kernelapp as app\n",
      "C:\\Users\\alshouha\\AppData\\Local\\Programs\\Python\\Python37\\lib\\site-packages\\numpy\\core\\_asarray.py:83: ComplexWarning: Casting complex values to real discards the imaginary part\n",
      "  return array(a, dtype, copy=False, order=order)\n"
     ]
    },
    {
     "data": {
      "image/png": "[encoded data removed]",
      "text/plain": [
       "<Figure size 432x288 with 1 Axes>"
      ]
     },
     "metadata": {
      "needs_background": "light"
     },
     "output_type": "display_data"
    },
    {
     "name": "stdout",
     "output_type": "stream",
     "text": [
      "Error = (5.495621735462919e-10+0j) after 213 iterations\n",
      "QR solution: [(8.61127708581339+0j), (-3.2490897043370452+0j), (1.7981547734011072+2.2555014703873995j), (1.7981547734011072-2.2555014703873995j)]\n",
      "Reference solution: [ 7.54317273+5.55111512e-16j -1.38588064+1.07402548e+00j\n",
      " -1.38588064-1.07402548e+00j  2.11429427+4.32553025e-01j\n",
      "  2.11429427-4.32553025e-01j]\n"
     ]
    }
   ],
   "source": [
    "shift = 'no shift'\n",
    "exp_name = 'Med noise'\n",
    "qr_mtx = np.copy(qr_noise1)\n",
    "qr_f = hessenberg(qr_mtx)\n",
    "\n",
    "error = 1e-3\n",
    "e_vals = qr(qr_f, error=error, callback = monitor_error)\n",
    "\n",
    "show_graph(f'QR without Hessenberg (medium noise = 1)')\n",
    "print(f'Error = {history[\"err\"][-1]} after {history[\"it\"][-1]} iterations')\n",
    "\n",
    "Hess_results[exp_name]['err'][shift] = history[\"err\"][-1].real\n",
    "Hess_results[exp_name]['it'][shift] = history[\"it\"][-1]\n",
    "\n",
    "clear_history()\n",
    "\n",
    "print(f\"QR solution: {e_vals}\")\n",
    "print(f\"Reference solution: {ref_solution}\")"
   ]
  },
  {
   "cell_type": "markdown",
   "metadata": {},
   "source": [
    "##### Third, the high noise is applied. Here the peaks are more frequent in the convergence graph."
   ]
  },
  {
   "cell_type": "code",
   "execution_count": 164,
   "metadata": {},
   "outputs": [
    {
     "name": "stderr",
     "output_type": "stream",
     "text": [
      "C:\\Users\\alshouha\\AppData\\Local\\Programs\\Python\\Python37\\lib\\site-packages\\ipykernel_launcher.py:15: ComplexWarning: Casting complex values to real discards the imaginary part\n",
      "  from ipykernel import kernelapp as app\n",
      "C:\\Users\\alshouha\\AppData\\Local\\Programs\\Python\\Python37\\lib\\site-packages\\ipykernel_launcher.py:7: ComplexWarning: Casting complex values to real discards the imaginary part\n",
      "  import sys\n",
      "C:\\Users\\alshouha\\AppData\\Local\\Programs\\Python\\Python37\\lib\\site-packages\\ipykernel_launcher.py:8: ComplexWarning: Casting complex values to real discards the imaginary part\n",
      "  \n",
      "C:\\Users\\alshouha\\AppData\\Local\\Programs\\Python\\Python37\\lib\\site-packages\\numpy\\core\\_asarray.py:83: ComplexWarning: Casting complex values to real discards the imaginary part\n",
      "  return array(a, dtype, copy=False, order=order)\n"
     ]
    },
    {
     "data": {
      "image/png": "[encoded data removed]",
      "text/plain": [
       "<Figure size 432x288 with 1 Axes>"
      ]
     },
     "metadata": {
      "needs_background": "light"
     },
     "output_type": "display_data"
    },
    {
     "name": "stdout",
     "output_type": "stream",
     "text": [
      "Error = (-4.3094416923850076e-10+0j) after 118 iterations\n",
      "QR solution: [(-20.008589471996608+0j), (-2.605578430333757+15.607957902587852j), (-2.605578430333757-15.607957902587852j), (-8.404876617472004+0j), (-9.085729797745254+0j)]\n",
      "Reference solution: [ 7.54317273+5.55111512e-16j -1.38588064+1.07402548e+00j\n",
      " -1.38588064-1.07402548e+00j  2.11429427+4.32553025e-01j\n",
      "  2.11429427-4.32553025e-01j]\n"
     ]
    }
   ],
   "source": [
    "shift = 'no shift'\n",
    "exp_name = 'High noise'\n",
    "qr_mtx = np.copy(qr_noise2)\n",
    "qr_f = hessenberg(qr_mtx)\n",
    "\n",
    "error = 1e-3\n",
    "e_vals = qr(qr_f, error=error, callback = monitor_error)\n",
    "\n",
    "show_graph(f'QR without Hessenberg (huge noise = 0.1)')\n",
    "print(f'Error = {history[\"err\"][-1]} after {history[\"it\"][-1]} iterations')\n",
    "\n",
    "Hess_results[exp_name]['err'][shift] = history[\"err\"][-1].real\n",
    "Hess_results[exp_name]['it'][shift] = history[\"it\"][-1]\n",
    "\n",
    "clear_history()\n",
    "\n",
    "print(f\"QR solution: {e_vals}\")\n",
    "print(f\"Reference solution: {ref_solution}\")"
   ]
  },
  {
   "cell_type": "markdown",
   "metadata": {},
   "source": [
    "##### Also, the huge noise is applied, but now without error limit for $50$ and $500$ iterations, and it shows either convergence to wrong eigenvalues or no convergence at all."
   ]
  },
  {
   "cell_type": "code",
   "execution_count": 165,
   "metadata": {},
   "outputs": [
    {
     "name": "stderr",
     "output_type": "stream",
     "text": [
      "C:\\Users\\alshouha\\AppData\\Local\\Programs\\Python\\Python37\\lib\\site-packages\\ipykernel_launcher.py:7: ComplexWarning: Casting complex values to real discards the imaginary part\n",
      "  import sys\n",
      "C:\\Users\\alshouha\\AppData\\Local\\Programs\\Python\\Python37\\lib\\site-packages\\ipykernel_launcher.py:8: ComplexWarning: Casting complex values to real discards the imaginary part\n",
      "  \n",
      "C:\\Users\\alshouha\\AppData\\Local\\Programs\\Python\\Python37\\lib\\site-packages\\ipykernel_launcher.py:15: ComplexWarning: Casting complex values to real discards the imaginary part\n",
      "  from ipykernel import kernelapp as app\n",
      "C:\\Users\\alshouha\\AppData\\Local\\Programs\\Python\\Python37\\lib\\site-packages\\numpy\\core\\_asarray.py:83: ComplexWarning: Casting complex values to real discards the imaginary part\n",
      "  return array(a, dtype, copy=False, order=order)\n"
     ]
    },
    {
     "data": {
      "image/png": "[encoded data removed]",
      "text/plain": [
       "<Figure size 432x288 with 1 Axes>"
      ]
     },
     "metadata": {
      "needs_background": "light"
     },
     "output_type": "display_data"
    },
    {
     "name": "stdout",
     "output_type": "stream",
     "text": [
      "Error = (17.379947519948246+0j) after 50 iterations\n",
      "QR solution: [(7.354691048350807+0j), (-22.68625921405907+0j), (15.30621838054649+0j), (12.337706175995095+0j)]\n",
      "Reference solution: [ 7.54317273+5.55111512e-16j -1.38588064+1.07402548e+00j\n",
      " -1.38588064-1.07402548e+00j  2.11429427+4.32553025e-01j\n",
      "  2.11429427-4.32553025e-01j]\n"
     ]
    }
   ],
   "source": [
    "# error = 1e-3\n",
    "qr_mtx = np.copy(mat)\n",
    "qr_noise2 = qr_mtx + noise(0.1) # huge noise\n",
    "\n",
    "qr_mtx = np.copy(qr_noise2)\n",
    "qr_f = hessenberg(qr_mtx)\n",
    "\n",
    "iter_num=50\n",
    "error = 1e-12\n",
    "e_vals = qr(qr_f, iter_num=iter_num, error=error, callback = monitor_error)\n",
    "\n",
    "show_graph(f'QR without Hessenberg (huge noise = 0.1)')\n",
    "print(f'Error = {history[\"err\"][-1]} after {history[\"it\"][-1]} iterations')\n",
    "clear_history()\n",
    "\n",
    "print(f\"QR solution: {e_vals}\")\n",
    "print(f\"Reference solution: {ref_solution}\")"
   ]
  },
  {
   "cell_type": "code",
   "execution_count": 166,
   "metadata": {},
   "outputs": [
    {
     "name": "stderr",
     "output_type": "stream",
     "text": [
      "C:\\Users\\alshouha\\AppData\\Local\\Programs\\Python\\Python37\\lib\\site-packages\\ipykernel_launcher.py:15: ComplexWarning: Casting complex values to real discards the imaginary part\n",
      "  from ipykernel import kernelapp as app\n",
      "C:\\Users\\alshouha\\AppData\\Local\\Programs\\Python\\Python37\\lib\\site-packages\\ipykernel_launcher.py:7: ComplexWarning: Casting complex values to real discards the imaginary part\n",
      "  import sys\n",
      "C:\\Users\\alshouha\\AppData\\Local\\Programs\\Python\\Python37\\lib\\site-packages\\ipykernel_launcher.py:8: ComplexWarning: Casting complex values to real discards the imaginary part\n",
      "  \n",
      "C:\\Users\\alshouha\\AppData\\Local\\Programs\\Python\\Python37\\lib\\site-packages\\numpy\\core\\_asarray.py:83: ComplexWarning: Casting complex values to real discards the imaginary part\n",
      "  return array(a, dtype, copy=False, order=order)\n"
     ]
    },
    {
     "data": {
      "image/png": "[encoded data removed]",
      "text/plain": [
       "<Figure size 432x288 with 1 Axes>"
      ]
     },
     "metadata": {
      "needs_background": "light"
     },
     "output_type": "display_data"
    },
    {
     "name": "stdout",
     "output_type": "stream",
     "text": [
      "Error = (3.126388037344441e-13+0j) after 271 iterations\n",
      "QR solution: [(-20.392392303346398+0j), (-3.963026947616272+17.67970313246266j), (-3.963026947616272-17.67970313246266j), (-12.296431893772352+0j)]\n",
      "Reference solution: [ 7.54317273+5.55111512e-16j -1.38588064+1.07402548e+00j\n",
      " -1.38588064-1.07402548e+00j  2.11429427+4.32553025e-01j\n",
      "  2.11429427-4.32553025e-01j]\n"
     ]
    }
   ],
   "source": [
    "# error = 1e-3\n",
    "qr_mtx = np.copy(mat)\n",
    "qr_noise2 = qr_mtx + noise(0.1) # huge noise\n",
    "\n",
    "qr_mtx = np.copy(qr_noise2)\n",
    "qr_f = hessenberg(qr_mtx)\n",
    "\n",
    "iter_num=500\n",
    "error = 1e-12\n",
    "e_vals = qr(qr_f, iter_num=iter_num, error=error, callback = monitor_error)\n",
    "\n",
    "show_graph(f'QR without Hessenberg (huge noise = 0.1)')\n",
    "print(f'Error = {history[\"err\"][-1]} after {history[\"it\"][-1]} iterations')\n",
    "clear_history()\n",
    "\n",
    "print(f\"QR solution: {e_vals}\")\n",
    "print(f\"Reference solution: {ref_solution}\")"
   ]
  },
  {
   "cell_type": "code",
   "execution_count": 167,
   "metadata": {},
   "outputs": [
    {
     "data": {
      "text/plain": [
       "{'E = 1e-2': {'err': {'no shift': 0.0018100650449639488},\n",
       "  'it': {'no shift': 47}},\n",
       " 'E = 1e-3': {'err': {'no shift': 0.0006879282288565491},\n",
       "  'it': {'no shift': 48}},\n",
       " 'It 50': {'err': {'no shift': -0.010324196701674282}, 'it': {'no shift': 50}},\n",
       " 'It 200': {'err': {'no shift': -9.74529939412605e-07},\n",
       "  'it': {'no shift': 90}},\n",
       " 'High noise': {'err': {'no shift': -4.3094416923850076e-10},\n",
       "  'it': {'no shift': 118}},\n",
       " 'Med noise': {'err': {'no shift': 5.495621735462919e-10},\n",
       "  'it': {'no shift': 213}},\n",
       " 'Low noise': {'err': {'no shift': 3.9912874306935464e-05},\n",
       "  'it': {'no shift': 39}}}"
      ]
     },
     "execution_count": 167,
     "metadata": {},
     "output_type": "execute_result"
    }
   ],
   "source": [
    "Hess_results"
   ]
  },
  {
   "cell_type": "code",
   "execution_count": 168,
   "metadata": {
    "scrolled": true
   },
   "outputs": [
    {
     "data": {
      "text/plain": [
       "{'E = 1e-2': {'err': {'no shift': 0.0018100650449639488},\n",
       "  'it': {'no shift': 47}},\n",
       " 'E = 1e-3': {'err': {'no shift': 0.0006879282288565491},\n",
       "  'it': {'no shift': 48}},\n",
       " 'It 50': {'err': {'no shift': -0.010324196701674282}, 'it': {'no shift': 50}},\n",
       " 'It 200': {'err': {'no shift': -9.74529939412605e-07},\n",
       "  'it': {'no shift': 90}},\n",
       " 'High noise': {'err': {'no shift': -4.3098680180264637e-10},\n",
       "  'it': {'no shift': 118}},\n",
       " 'Med noise': {'err': {'no shift': -3.625899580583791e-10},\n",
       "  'it': {'no shift': 209}},\n",
       " 'Low noise': {'err': {'no shift': -0.0004287486900409476},\n",
       "  'it': {'no shift': 40}}}"
      ]
     },
     "execution_count": 168,
     "metadata": {},
     "output_type": "execute_result"
    }
   ],
   "source": [
    "NoHess_results"
   ]
  },
  {
   "cell_type": "code",
   "execution_count": 169,
   "metadata": {
    "scrolled": true
   },
   "outputs": [
    {
     "name": "stdout",
     "output_type": "stream",
     "text": [
      "Without Hessenberg Results\n"
     ]
    },
    {
     "data": {
      "text/html": [
       "<div>\n",
       "<style scoped>\n",
       "    .dataframe tbody tr th:only-of-type {\n",
       "        vertical-align: middle;\n",
       "    }\n",
       "\n",
       "    .dataframe tbody tr th {\n",
       "        vertical-align: top;\n",
       "    }\n",
       "\n",
       "    .dataframe thead th {\n",
       "        text-align: right;\n",
       "    }\n",
       "</style>\n",
       "<table border=\"1\" class=\"dataframe\">\n",
       "  <thead>\n",
       "    <tr style=\"text-align: right;\">\n",
       "      <th></th>\n",
       "      <th></th>\n",
       "      <th>no shift</th>\n",
       "    </tr>\n",
       "  </thead>\n",
       "  <tbody>\n",
       "    <tr>\n",
       "      <th rowspan=\"2\" valign=\"top\">E = 1e-2</th>\n",
       "      <th>err</th>\n",
       "      <td>1.810065e-03</td>\n",
       "    </tr>\n",
       "    <tr>\n",
       "      <th>it</th>\n",
       "      <td>4.700000e+01</td>\n",
       "    </tr>\n",
       "    <tr>\n",
       "      <th rowspan=\"2\" valign=\"top\">E = 1e-3</th>\n",
       "      <th>err</th>\n",
       "      <td>6.879282e-04</td>\n",
       "    </tr>\n",
       "    <tr>\n",
       "      <th>it</th>\n",
       "      <td>4.800000e+01</td>\n",
       "    </tr>\n",
       "    <tr>\n",
       "      <th rowspan=\"2\" valign=\"top\">High noise</th>\n",
       "      <th>err</th>\n",
       "      <td>-4.309868e-10</td>\n",
       "    </tr>\n",
       "    <tr>\n",
       "      <th>it</th>\n",
       "      <td>1.180000e+02</td>\n",
       "    </tr>\n",
       "    <tr>\n",
       "      <th rowspan=\"2\" valign=\"top\">It 200</th>\n",
       "      <th>err</th>\n",
       "      <td>-9.745299e-07</td>\n",
       "    </tr>\n",
       "    <tr>\n",
       "      <th>it</th>\n",
       "      <td>9.000000e+01</td>\n",
       "    </tr>\n",
       "    <tr>\n",
       "      <th rowspan=\"2\" valign=\"top\">It 50</th>\n",
       "      <th>err</th>\n",
       "      <td>-1.032420e-02</td>\n",
       "    </tr>\n",
       "    <tr>\n",
       "      <th>it</th>\n",
       "      <td>5.000000e+01</td>\n",
       "    </tr>\n",
       "    <tr>\n",
       "      <th rowspan=\"2\" valign=\"top\">Low noise</th>\n",
       "      <th>err</th>\n",
       "      <td>-4.287487e-04</td>\n",
       "    </tr>\n",
       "    <tr>\n",
       "      <th>it</th>\n",
       "      <td>4.000000e+01</td>\n",
       "    </tr>\n",
       "    <tr>\n",
       "      <th rowspan=\"2\" valign=\"top\">Med noise</th>\n",
       "      <th>err</th>\n",
       "      <td>-3.625900e-10</td>\n",
       "    </tr>\n",
       "    <tr>\n",
       "      <th>it</th>\n",
       "      <td>2.090000e+02</td>\n",
       "    </tr>\n",
       "  </tbody>\n",
       "</table>\n",
       "</div>"
      ],
      "text/plain": [
       "                    no shift\n",
       "E = 1e-2   err  1.810065e-03\n",
       "           it   4.700000e+01\n",
       "E = 1e-3   err  6.879282e-04\n",
       "           it   4.800000e+01\n",
       "High noise err -4.309868e-10\n",
       "           it   1.180000e+02\n",
       "It 200     err -9.745299e-07\n",
       "           it   9.000000e+01\n",
       "It 50      err -1.032420e-02\n",
       "           it   5.000000e+01\n",
       "Low noise  err -4.287487e-04\n",
       "           it   4.000000e+01\n",
       "Med noise  err -3.625900e-10\n",
       "           it   2.090000e+02"
      ]
     },
     "execution_count": 169,
     "metadata": {},
     "output_type": "execute_result"
    }
   ],
   "source": [
    "print(\"Without Hessenberg Results\")\n",
    "df = pd.DataFrame.from_dict({(i,j): NoHess_results[i][j] \n",
    "                           for i in NoHess_results.keys() \n",
    "                           for j in NoHess_results[i].keys()},\n",
    "                       orient='index')\n",
    "df"
   ]
  },
  {
   "cell_type": "code",
   "execution_count": 170,
   "metadata": {},
   "outputs": [
    {
     "name": "stdout",
     "output_type": "stream",
     "text": [
      "With Hessenberg Results\n"
     ]
    },
    {
     "data": {
      "text/html": [
       "<div>\n",
       "<style scoped>\n",
       "    .dataframe tbody tr th:only-of-type {\n",
       "        vertical-align: middle;\n",
       "    }\n",
       "\n",
       "    .dataframe tbody tr th {\n",
       "        vertical-align: top;\n",
       "    }\n",
       "\n",
       "    .dataframe thead th {\n",
       "        text-align: right;\n",
       "    }\n",
       "</style>\n",
       "<table border=\"1\" class=\"dataframe\">\n",
       "  <thead>\n",
       "    <tr style=\"text-align: right;\">\n",
       "      <th></th>\n",
       "      <th></th>\n",
       "      <th>no shift</th>\n",
       "    </tr>\n",
       "  </thead>\n",
       "  <tbody>\n",
       "    <tr>\n",
       "      <th rowspan=\"2\" valign=\"top\">E = 1e-2</th>\n",
       "      <th>err</th>\n",
       "      <td>1.810065e-03</td>\n",
       "    </tr>\n",
       "    <tr>\n",
       "      <th>it</th>\n",
       "      <td>4.700000e+01</td>\n",
       "    </tr>\n",
       "    <tr>\n",
       "      <th rowspan=\"2\" valign=\"top\">E = 1e-3</th>\n",
       "      <th>err</th>\n",
       "      <td>6.879282e-04</td>\n",
       "    </tr>\n",
       "    <tr>\n",
       "      <th>it</th>\n",
       "      <td>4.800000e+01</td>\n",
       "    </tr>\n",
       "    <tr>\n",
       "      <th rowspan=\"2\" valign=\"top\">High noise</th>\n",
       "      <th>err</th>\n",
       "      <td>-4.309442e-10</td>\n",
       "    </tr>\n",
       "    <tr>\n",
       "      <th>it</th>\n",
       "      <td>1.180000e+02</td>\n",
       "    </tr>\n",
       "    <tr>\n",
       "      <th rowspan=\"2\" valign=\"top\">It 200</th>\n",
       "      <th>err</th>\n",
       "      <td>-9.745299e-07</td>\n",
       "    </tr>\n",
       "    <tr>\n",
       "      <th>it</th>\n",
       "      <td>9.000000e+01</td>\n",
       "    </tr>\n",
       "    <tr>\n",
       "      <th rowspan=\"2\" valign=\"top\">It 50</th>\n",
       "      <th>err</th>\n",
       "      <td>-1.032420e-02</td>\n",
       "    </tr>\n",
       "    <tr>\n",
       "      <th>it</th>\n",
       "      <td>5.000000e+01</td>\n",
       "    </tr>\n",
       "    <tr>\n",
       "      <th rowspan=\"2\" valign=\"top\">Low noise</th>\n",
       "      <th>err</th>\n",
       "      <td>3.991287e-05</td>\n",
       "    </tr>\n",
       "    <tr>\n",
       "      <th>it</th>\n",
       "      <td>3.900000e+01</td>\n",
       "    </tr>\n",
       "    <tr>\n",
       "      <th rowspan=\"2\" valign=\"top\">Med noise</th>\n",
       "      <th>err</th>\n",
       "      <td>5.495622e-10</td>\n",
       "    </tr>\n",
       "    <tr>\n",
       "      <th>it</th>\n",
       "      <td>2.130000e+02</td>\n",
       "    </tr>\n",
       "  </tbody>\n",
       "</table>\n",
       "</div>"
      ],
      "text/plain": [
       "                    no shift\n",
       "E = 1e-2   err  1.810065e-03\n",
       "           it   4.700000e+01\n",
       "E = 1e-3   err  6.879282e-04\n",
       "           it   4.800000e+01\n",
       "High noise err -4.309442e-10\n",
       "           it   1.180000e+02\n",
       "It 200     err -9.745299e-07\n",
       "           it   9.000000e+01\n",
       "It 50      err -1.032420e-02\n",
       "           it   5.000000e+01\n",
       "Low noise  err  3.991287e-05\n",
       "           it   3.900000e+01\n",
       "Med noise  err  5.495622e-10\n",
       "           it   2.130000e+02"
      ]
     },
     "execution_count": 170,
     "metadata": {},
     "output_type": "execute_result"
    }
   ],
   "source": [
    "print(\"With Hessenberg Results\")\n",
    "df = pd.DataFrame.from_dict({(i,j): Hess_results[i][j] \n",
    "                           for i in Hess_results.keys() \n",
    "                           for j in Hess_results[i].keys()},\n",
    "                       orient='index')\n",
    "df"
   ]
  },
  {
   "cell_type": "markdown",
   "metadata": {},
   "source": [
    "## Conclusion"
   ]
  },
  {
   "cell_type": "markdown",
   "metadata": {},
   "source": [
    "* For this specific example the implemented algorith was able to find the eigenvalues.\n",
    "* If the transformation to Hessenberg-form was applied the convergence time was not affected. But it made curves less noisy.\n",
    "* Shifting has not shown the expected effect. Instead it slightly made slower the convergence in most cases.\n",
    "* High noise cause fluctuating convergence curves and un patterned behaviour, regardless of the version which is used with it."
   ]
  },
  {
   "cell_type": "markdown",
   "metadata": {},
   "source": [
    "## Reference"
   ]
  },
  {
   "cell_type": "markdown",
   "metadata": {},
   "source": [
    "* Rózsa Pál, Lineáris algebra és alkalmazásai, 3. kiadás, 1991\n",
    "* https://github.com/adamtiger/ai/tree/code\n",
    "* https://docs.scipy.org/doc/numpy-1.13.0/reference/generated/numpy.linalg.eig.html (the refernce calculation of the eigenvalues was based on the numpy library corresponding function)"
   ]
  }
 ],
 "metadata": {
  "anaconda-cloud": {},
  "kernelspec": {
   "display_name": "Python 3",
   "language": "python",
   "name": "python3"
  },
  "language_info": {
   "codemirror_mode": {
    "name": "ipython",
    "version": 3
   },
   "file_extension": ".py",
   "mimetype": "text/x-python",
   "name": "python",
   "nbconvert_exporter": "python",
   "pygments_lexer": "ipython3",
   "version": "3.7.6"
  }
 },
 "nbformat": 4,
 "nbformat_minor": 1
}
